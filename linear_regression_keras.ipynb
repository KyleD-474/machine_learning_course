{
  "nbformat": 4,
  "nbformat_minor": 0,
  "metadata": {
    "colab": {
      "name": "linear_regression_keras.ipynb",
      "provenance": [],
      "include_colab_link": true
    },
    "kernelspec": {
      "name": "python3",
      "display_name": "Python 3"
    }
  },
  "cells": [
    {
      "cell_type": "markdown",
      "metadata": {
        "id": "view-in-github",
        "colab_type": "text"
      },
      "source": [
        "<a href=\"https://colab.research.google.com/github/schneider128k/machine_learning_course/blob/master/linear_regression_keras.ipynb\" target=\"_parent\"><img src=\"https://colab.research.google.com/assets/colab-badge.svg\" alt=\"Open In Colab\"/></a>"
      ]
    },
    {
      "cell_type": "code",
      "metadata": {
        "id": "l5rq92V7ObHs",
        "colab_type": "code",
        "colab": {}
      },
      "source": [
        "%matplotlib inline\n",
        "import matplotlib as mpl\n",
        "import matplotlib.pyplot as plt\n",
        "mpl.rc('axes', labelsize=14)\n",
        "mpl.rc('xtick', labelsize=12)\n",
        "mpl.rc('ytick', labelsize=12)"
      ],
      "execution_count": 0,
      "outputs": []
    },
    {
      "cell_type": "code",
      "metadata": {
        "id": "B4VTPpXkOhds",
        "colab_type": "code",
        "colab": {}
      },
      "source": [
        "import numpy as np\n",
        "np.random.seed(42)\n",
        "\n",
        "xs = 2 * np.random.rand(100, 1)\n",
        "ys = 4 + 3 * xs + np.random.rand(100, 1)"
      ],
      "execution_count": 0,
      "outputs": []
    },
    {
      "cell_type": "code",
      "metadata": {
        "id": "PlhVE5hJSbsy",
        "colab_type": "code",
        "outputId": "e0f492e6-34cf-4140-efbb-a14716130f6e",
        "colab": {
          "base_uri": "https://localhost:8080/",
          "height": 290
        }
      },
      "source": [
        "plt.plot(xs, ys, \"b.\")\n",
        "plt.xlabel(\"$x_1$\", fontsize=18)\n",
        "plt.ylabel(\"$y$\", rotation=0, fontsize=18)\n",
        "plt.axis([0, 2, 0, 15])\n",
        "plt.show()"
      ],
      "execution_count": 0,
      "outputs": [
        {
          "output_type": "display_data",
          "data": {
            "image/png": "[encoded data removed]",
            "text/plain": [
              "<Figure size 432x288 with 1 Axes>"
            ]
          },
          "metadata": {
            "tags": []
          }
        }
      ]
    },
    {
      "cell_type": "code",
      "metadata": {
        "id": "9WIBehqmUXeM",
        "colab_type": "code",
        "colab": {}
      },
      "source": [
        "# split the data into training and test sets\n",
        "# train set\n",
        "train_xs = xs[:80]\n",
        "train_ys = ys[:80]\n",
        "# test set\n",
        "test_xs = xs[80:]\n",
        "test_ys = ys[80:]\n"
      ],
      "execution_count": 0,
      "outputs": []
    },
    {
      "cell_type": "markdown",
      "metadata": {
        "id": "wq5R9tfxOlK6",
        "colab_type": "text"
      },
      "source": [
        "# Linear regression using Keras\n"
      ]
    },
    {
      "cell_type": "code",
      "metadata": {
        "id": "VmYytw5LSeki",
        "colab_type": "code",
        "outputId": "7700254f-1993-4acc-cb5c-0c9e674d4bdf",
        "colab": {
          "base_uri": "https://localhost:8080/",
          "height": 35
        }
      },
      "source": [
        "%tensorflow_version 2.x\n",
        "from tensorflow.keras import models\n",
        "from tensorflow.keras import layers"
      ],
      "execution_count": 0,
      "outputs": [
        {
          "output_type": "stream",
          "text": [
            "TensorFlow 2.x selected.\n"
          ],
          "name": "stdout"
        }
      ]
    },
    {
      "cell_type": "markdown",
      "metadata": {
        "id": "jVT8Z0VLXXbg",
        "colab_type": "text"
      },
      "source": [
        "## Build the Keras model"
      ]
    },
    {
      "cell_type": "code",
      "metadata": {
        "id": "Z5z0s6p2SeV0",
        "colab_type": "code",
        "colab": {}
      },
      "source": [
        "network = models.Sequential()\n",
        "network.add(layers.Dense(1, input_shape=(1,)))"
      ],
      "execution_count": 0,
      "outputs": []
    },
    {
      "cell_type": "markdown",
      "metadata": {
        "id": "ruI7_rT2ayse",
        "colab_type": "text"
      },
      "source": [
        "## Compile the model"
      ]
    },
    {
      "cell_type": "code",
      "metadata": {
        "id": "CqvgS-KsS99D",
        "colab_type": "code",
        "colab": {}
      },
      "source": [
        "network.compile(optimizer='sgd', loss='mse', metrics=['mse'])"
      ],
      "execution_count": 0,
      "outputs": []
    },
    {
      "cell_type": "markdown",
      "metadata": {
        "id": "qAK6EAMTa2-r",
        "colab_type": "text"
      },
      "source": [
        "## Train the model"
      ]
    },
    {
      "cell_type": "code",
      "metadata": {
        "id": "kt4lOhcFTOJz",
        "colab_type": "code",
        "outputId": "e73be42c-2c3d-47bf-b439-7a0c3bfe53b4",
        "colab": {
          "base_uri": "https://localhost:8080/",
          "height": 399
        }
      },
      "source": [
        "network.fit(train_xs, train_ys, epochs=10, batch_size=8)"
      ],
      "execution_count": 0,
      "outputs": [
        {
          "output_type": "stream",
          "text": [
            "Train on 80 samples\n",
            "Epoch 1/10\n",
            "80/80 [==============================] - 0s 6ms/sample - loss: 58.7943 - mse: 58.7943\n",
            "Epoch 2/10\n",
            "80/80 [==============================] - 0s 189us/sample - loss: 25.3486 - mse: 25.3486\n",
            "Epoch 3/10\n",
            "80/80 [==============================] - 0s 226us/sample - loss: 10.9852 - mse: 10.9852\n",
            "Epoch 4/10\n",
            "80/80 [==============================] - 0s 184us/sample - loss: 4.7903 - mse: 4.7903\n",
            "Epoch 5/10\n",
            "80/80 [==============================] - 0s 165us/sample - loss: 2.1217 - mse: 2.1217\n",
            "Epoch 6/10\n",
            "80/80 [==============================] - 0s 184us/sample - loss: 0.9687 - mse: 0.9687\n",
            "Epoch 7/10\n",
            "80/80 [==============================] - 0s 186us/sample - loss: 0.4722 - mse: 0.4722\n",
            "Epoch 8/10\n",
            "80/80 [==============================] - 0s 179us/sample - loss: 0.2607 - mse: 0.2607\n",
            "Epoch 9/10\n",
            "80/80 [==============================] - 0s 181us/sample - loss: 0.1686 - mse: 0.1686\n",
            "Epoch 10/10\n",
            "80/80 [==============================] - 0s 187us/sample - loss: 0.1280 - mse: 0.1280\n"
          ],
          "name": "stdout"
        },
        {
          "output_type": "execute_result",
          "data": {
            "text/plain": [
              "<tensorflow.python.keras.callbacks.History at 0x7fd013abaac8>"
            ]
          },
          "metadata": {
            "tags": []
          },
          "execution_count": 8
        }
      ]
    },
    {
      "cell_type": "markdown",
      "metadata": {
        "id": "s9Iv2S5UXSnt",
        "colab_type": "text"
      },
      "source": [
        "## Evaluate the model"
      ]
    },
    {
      "cell_type": "code",
      "metadata": {
        "id": "ouGCs5h0Vb7j",
        "colab_type": "code",
        "outputId": "7a3fb9ad-454b-44b4-8824-1e3e36be7a4a",
        "colab": {
          "base_uri": "https://localhost:8080/",
          "height": 35
        }
      },
      "source": [
        "test_loss, test_acc = network.evaluate(test_xs, test_ys)"
      ],
      "execution_count": 0,
      "outputs": [
        {
          "output_type": "stream",
          "text": [
            "\r20/20 [==============================] - 0s 3ms/sample - loss: 0.1624 - mse: 0.1624\n"
          ],
          "name": "stdout"
        }
      ]
    },
    {
      "cell_type": "code",
      "metadata": {
        "id": "ceyzFn1sVtb8",
        "colab_type": "code",
        "outputId": "085a23bb-1e88-45a1-e4be-3f62392bf079",
        "colab": {
          "base_uri": "https://localhost:8080/",
          "height": 35
        }
      },
      "source": [
        "test_acc"
      ],
      "execution_count": 0,
      "outputs": [
        {
          "output_type": "execute_result",
          "data": {
            "text/plain": [
              "0.16240528"
            ]
          },
          "metadata": {
            "tags": []
          },
          "execution_count": 10
        }
      ]
    },
    {
      "cell_type": "code",
      "metadata": {
        "id": "OagpMGGUVw5k",
        "colab_type": "code",
        "outputId": "7137fa95-ecc6-4097-e9fd-bbe1937b4a60",
        "colab": {
          "base_uri": "https://localhost:8080/",
          "height": 35
        }
      },
      "source": [
        "test_loss"
      ],
      "execution_count": 0,
      "outputs": [
        {
          "output_type": "execute_result",
          "data": {
            "text/plain": [
              "0.16240528225898743"
            ]
          },
          "metadata": {
            "tags": []
          },
          "execution_count": 11
        }
      ]
    },
    {
      "cell_type": "code",
      "metadata": {
        "id": "pSWeUAxoV2Xk",
        "colab_type": "code",
        "colab": {}
      },
      "source": [
        "pred_ys = network.predict(test_xs)"
      ],
      "execution_count": 0,
      "outputs": []
    },
    {
      "cell_type": "code",
      "metadata": {
        "id": "QS4IdviyXBac",
        "colab_type": "code",
        "outputId": "1f13d676-a0fb-416b-bf03-c220d9dc7f73",
        "colab": {
          "base_uri": "https://localhost:8080/",
          "height": 290
        }
      },
      "source": [
        "plt.plot(test_xs, test_ys, \"b.\")\n",
        "plt.plot(test_xs, pred_ys, \"r.\") # predicted values\n",
        "plt.xlabel(\"$x_1$\", fontsize=18)\n",
        "plt.ylabel(\"$y$\", rotation=0, fontsize=18)\n",
        "plt.axis([0, 2, 0, 15])\n",
        "plt.show()"
      ],
      "execution_count": 0,
      "outputs": [
        {
          "output_type": "display_data",
          "data": {
            "image/png": "[encoded data removed]",
            "text/plain": [
              "<Figure size 432x288 with 1 Axes>"
            ]
          },
          "metadata": {
            "tags": []
          }
        }
      ]
    },
    {
      "cell_type": "code",
      "metadata": {
        "id": "bG_ZQa2_X4o9",
        "colab_type": "code",
        "colab": {}
      },
      "source": [
        ""
      ],
      "execution_count": 0,
      "outputs": []
    }
  ]
}