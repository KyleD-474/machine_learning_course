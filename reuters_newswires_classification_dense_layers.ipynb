{
  "nbformat": 4,
  "nbformat_minor": 0,
  "metadata": {
    "colab": {
      "name": "reuters_newswires_classification_dense_layers.ipynb",
      "provenance": [],
      "collapsed_sections": [],
      "include_colab_link": true
    },
    "kernelspec": {
      "name": "python3",
      "display_name": "Python 3"
    }
  },
  "cells": [
    {
      "cell_type": "markdown",
      "metadata": {
        "id": "view-in-github",
        "colab_type": "text"
      },
      "source": [
        "<a href=\"https://colab.research.google.com/github/schneider128k/machine_learning_course/blob/master/reuters_newswires_classification_dense_layers.ipynb\" target=\"_parent\"><img src=\"https://colab.research.google.com/assets/colab-badge.svg\" alt=\"Open In Colab\"/></a>"
      ]
    },
    {
      "cell_type": "markdown",
      "metadata": {
        "id": "rt44vyY1xW9b",
        "colab_type": "text"
      },
      "source": [
        "# Reuters newswires dataset"
      ]
    },
    {
      "cell_type": "markdown",
      "metadata": {
        "id": "l34GNy7tyNks",
        "colab_type": "text"
      },
      "source": [
        "## Loading the newswires dataset"
      ]
    },
    {
      "cell_type": "markdown",
      "metadata": {
        "id": "v0bYj6aGnolE",
        "colab_type": "text"
      },
      "source": [
        "The Reuters dataset is a set of short newswires and their topics, published by Reuters in 1986. It's a simple, widely used toy dataset for text classification. There are 46 different topics. Some topics are more represented than others, but each topic has at least 10 examples in the training set."
      ]
    },
    {
      "cell_type": "code",
      "metadata": {
        "id": "FSJyddqGexl5",
        "colab_type": "code",
        "outputId": "2ece0690-622d-4954-d841-37096774fa0b",
        "colab": {
          "base_uri": "https://localhost:8080/",
          "height": 35
        }
      },
      "source": [
        "%tensorflow_version 2.x\n",
        "import tensorflow as tf\n",
        "\n",
        "(train_data, train_labels), (test_data, test_labels) = tf.keras.datasets.reuters.load_data(num_words=10000)"
      ],
      "execution_count": 0,
      "outputs": [
        {
          "output_type": "stream",
          "text": [
            "TensorFlow 2.x selected.\n"
          ],
          "name": "stdout"
        }
      ]
    },
    {
      "cell_type": "markdown",
      "metadata": {
        "id": "TuMi5_HMxuZ3",
        "colab_type": "text"
      },
      "source": [
        "See [https://keras.io/datasets/#reuters-newswire-topics-classification](https://keras.io/datasets/#reuters-newswire-topics-classification) for all more details."
      ]
    },
    {
      "cell_type": "markdown",
      "metadata": {
        "id": "7vi14hPlEqwG",
        "colab_type": "text"
      },
      "source": [
        "## Preparing the data"
      ]
    },
    {
      "cell_type": "markdown",
      "metadata": {
        "id": "sjoeZfo2Btwh",
        "colab_type": "text"
      },
      "source": [
        "**Code to vectorize the data**\n",
        "\n",
        "For maximum clarity, let's manually vectorize the data instead of using some build-in functions. (This code is the same as for the IMDB movie reviews dataset.)"
      ]
    },
    {
      "cell_type": "code",
      "metadata": {
        "id": "gQ7Qx7GCB_zm",
        "colab_type": "code",
        "colab": {}
      },
      "source": [
        "import numpy as np\n",
        "\n",
        "def vectorize_sequences(sequences, dimension=10000):\n",
        "    results = np.zeros((len(sequences), dimension))\n",
        "    for i, sequence in enumerate(sequences):\n",
        "        results[i, sequence] = 1.0\n",
        "    return results"
      ],
      "execution_count": 0,
      "outputs": []
    },
    {
      "cell_type": "code",
      "metadata": {
        "id": "0JRFR7N78EQA",
        "colab_type": "code",
        "colab": {}
      },
      "source": [
        "x_train = vectorize_sequences(train_data)\n",
        "x_test = vectorize_sequences(test_data)"
      ],
      "execution_count": 0,
      "outputs": []
    },
    {
      "cell_type": "code",
      "metadata": {
        "id": "GapqDIMbDlGX",
        "colab_type": "code",
        "outputId": "2238e5a0-0ad9-45c5-e647-a7d900da0de6",
        "colab": {
          "base_uri": "https://localhost:8080/",
          "height": 35
        }
      },
      "source": [
        "x_train[0]"
      ],
      "execution_count": 0,
      "outputs": [
        {
          "output_type": "execute_result",
          "data": {
            "text/plain": [
              "array([0., 1., 1., ..., 0., 0., 0.])"
            ]
          },
          "metadata": {
            "tags": []
          },
          "execution_count": 4
        }
      ]
    },
    {
      "cell_type": "code",
      "metadata": {
        "id": "VW3GZIkuDpxQ",
        "colab_type": "code",
        "outputId": "e12f67e5-c15d-456b-8f22-8346baf627f7",
        "colab": {
          "base_uri": "https://localhost:8080/",
          "height": 35
        }
      },
      "source": [
        "np.sum(x_train[0])"
      ],
      "execution_count": 0,
      "outputs": [
        {
          "output_type": "execute_result",
          "data": {
            "text/plain": [
              "57.0"
            ]
          },
          "metadata": {
            "tags": []
          },
          "execution_count": 5
        }
      ]
    },
    {
      "cell_type": "code",
      "metadata": {
        "id": "c9hlFrs3Dubw",
        "colab_type": "code",
        "outputId": "a6355f80-bad1-404c-d9a4-a9205f3a3c3c",
        "colab": {
          "base_uri": "https://localhost:8080/",
          "height": 35
        }
      },
      "source": [
        "bag_of_words = set(train_data[0])\n",
        "len(bag_of_words)"
      ],
      "execution_count": 0,
      "outputs": [
        {
          "output_type": "execute_result",
          "data": {
            "text/plain": [
              "57"
            ]
          },
          "metadata": {
            "tags": []
          },
          "execution_count": 6
        }
      ]
    },
    {
      "cell_type": "markdown",
      "metadata": {
        "id": "9YRYqi0z5wBg",
        "colab_type": "text"
      },
      "source": [
        "**Prepare the labels**"
      ]
    },
    {
      "cell_type": "code",
      "metadata": {
        "id": "tFxAl8WP5zc7",
        "colab_type": "code",
        "colab": {}
      },
      "source": [
        "y_train = train_labels\n",
        "y_test = test_labels"
      ],
      "execution_count": 0,
      "outputs": []
    },
    {
      "cell_type": "code",
      "metadata": {
        "id": "z3B03KUr6wXn",
        "colab_type": "code",
        "outputId": "cdd10eb0-2121-418b-cf3c-56fdb4fd25fa",
        "colab": {
          "base_uri": "https://localhost:8080/",
          "height": 35
        }
      },
      "source": [
        "train_labels[0:5]"
      ],
      "execution_count": 0,
      "outputs": [
        {
          "output_type": "execute_result",
          "data": {
            "text/plain": [
              "array([3, 4, 3, 4, 4])"
            ]
          },
          "metadata": {
            "tags": []
          },
          "execution_count": 8
        }
      ]
    },
    {
      "cell_type": "code",
      "metadata": {
        "id": "MylYuS2X6YMl",
        "colab_type": "code",
        "outputId": "2f09a9ef-7a54-427b-b523-6c90f41a42d8",
        "colab": {
          "base_uri": "https://localhost:8080/",
          "height": 35
        }
      },
      "source": [
        "y_train[0:5]"
      ],
      "execution_count": 0,
      "outputs": [
        {
          "output_type": "execute_result",
          "data": {
            "text/plain": [
              "array([3, 4, 3, 4, 4])"
            ]
          },
          "metadata": {
            "tags": []
          },
          "execution_count": 9
        }
      ]
    },
    {
      "cell_type": "markdown",
      "metadata": {
        "id": "sMtxtVSVT3_q",
        "colab_type": "text"
      },
      "source": [
        "## Create validation set"
      ]
    },
    {
      "cell_type": "markdown",
      "metadata": {
        "id": "8oz3jIEWT87X",
        "colab_type": "text"
      },
      "source": [
        "We create a validation set by setting apart 1,000 samples from the original training data to monitor during training the accuracy of the model on data it has never seen before."
      ]
    },
    {
      "cell_type": "code",
      "metadata": {
        "id": "VQhzI6OXT74X",
        "colab_type": "code",
        "colab": {}
      },
      "source": [
        "x_val = x_train[:1000]\n",
        "y_val = y_train[:1000]\n",
        "\n",
        "partial_x_train = x_train[1000:]\n",
        "partial_y_train = y_train[1000:]"
      ],
      "execution_count": 0,
      "outputs": []
    },
    {
      "cell_type": "markdown",
      "metadata": {
        "id": "JHBid67rFGWS",
        "colab_type": "text"
      },
      "source": [
        "## Build model"
      ]
    },
    {
      "cell_type": "code",
      "metadata": {
        "id": "R-l2h80LFJ4c",
        "colab_type": "code",
        "colab": {}
      },
      "source": [
        "def build_and_compile_model():\n",
        "    # build model\n",
        "    model = tf.keras.models.Sequential()\n",
        "\n",
        "    model.add(tf.keras.layers.Dense(64, activation='relu', input_shape=(10000,)))\n",
        "    model.add(tf.keras.layers.Dense(64, activation='relu'))\n",
        "    model.add(tf.keras.layers.Dense(46, activation='softmax'))\n",
        "\n",
        "    # compile model\n",
        "    model.compile(optimizer='rmsprop',\n",
        "                loss='sparse_categorical_crossentropy',\n",
        "                metrics=['acc'])\n",
        "    \n",
        "    return model"
      ],
      "execution_count": 0,
      "outputs": []
    },
    {
      "cell_type": "markdown",
      "metadata": {
        "id": "TOphMGVRUl9R",
        "colab_type": "text"
      },
      "source": [
        "## Train model"
      ]
    },
    {
      "cell_type": "code",
      "metadata": {
        "id": "8Fmgxjx_Ut6v",
        "colab_type": "code",
        "outputId": "972494cd-e415-45d3-daa6-da45d326a37f",
        "colab": {
          "base_uri": "https://localhost:8080/",
          "height": 728
        }
      },
      "source": [
        "model = build_and_compile_model()\n",
        "\n",
        "history = model.fit(partial_x_train,\n",
        "                    partial_y_train,\n",
        "                    epochs=20,\n",
        "                    batch_size=512,\n",
        "                    validation_data=(x_val, y_val))"
      ],
      "execution_count": 0,
      "outputs": [
        {
          "output_type": "stream",
          "text": [
            "Train on 7982 samples, validate on 1000 samples\n",
            "Epoch 1/20\n",
            "7982/7982 [==============================] - 2s 207us/sample - loss: 2.6873 - acc: 0.5233 - val_loss: 1.7790 - val_acc: 0.6510\n",
            "Epoch 2/20\n",
            "7982/7982 [==============================] - 1s 137us/sample - loss: 1.4118 - acc: 0.7110 - val_loss: 1.2887 - val_acc: 0.7260\n",
            "Epoch 3/20\n",
            "7982/7982 [==============================] - 1s 130us/sample - loss: 1.0249 - acc: 0.7863 - val_loss: 1.0909 - val_acc: 0.7720\n",
            "Epoch 4/20\n",
            "7982/7982 [==============================] - 1s 133us/sample - loss: 0.8069 - acc: 0.8297 - val_loss: 1.0067 - val_acc: 0.7840\n",
            "Epoch 5/20\n",
            "7982/7982 [==============================] - 1s 128us/sample - loss: 0.6525 - acc: 0.8612 - val_loss: 0.9568 - val_acc: 0.7970\n",
            "Epoch 6/20\n",
            "7982/7982 [==============================] - 1s 129us/sample - loss: 0.5270 - acc: 0.8879 - val_loss: 0.9010 - val_acc: 0.8050\n",
            "Epoch 7/20\n",
            "7982/7982 [==============================] - 1s 132us/sample - loss: 0.4267 - acc: 0.9124 - val_loss: 0.8851 - val_acc: 0.8140\n",
            "Epoch 8/20\n",
            "7982/7982 [==============================] - 1s 126us/sample - loss: 0.3470 - acc: 0.9262 - val_loss: 0.8919 - val_acc: 0.8100\n",
            "Epoch 9/20\n",
            "7982/7982 [==============================] - 1s 127us/sample - loss: 0.2866 - acc: 0.9366 - val_loss: 0.8883 - val_acc: 0.8130\n",
            "Epoch 10/20\n",
            "7982/7982 [==============================] - 1s 129us/sample - loss: 0.2430 - acc: 0.9444 - val_loss: 0.8663 - val_acc: 0.8190\n",
            "Epoch 11/20\n",
            "7982/7982 [==============================] - 1s 132us/sample - loss: 0.2098 - acc: 0.9486 - val_loss: 0.8892 - val_acc: 0.8170\n",
            "Epoch 12/20\n",
            "7982/7982 [==============================] - 1s 131us/sample - loss: 0.1884 - acc: 0.9510 - val_loss: 0.9328 - val_acc: 0.8150\n",
            "Epoch 13/20\n",
            "7982/7982 [==============================] - 1s 127us/sample - loss: 0.1621 - acc: 0.9540 - val_loss: 1.0137 - val_acc: 0.7920\n",
            "Epoch 14/20\n",
            "7982/7982 [==============================] - 1s 129us/sample - loss: 0.1503 - acc: 0.9545 - val_loss: 0.9471 - val_acc: 0.8150\n",
            "Epoch 15/20\n",
            "7982/7982 [==============================] - 1s 128us/sample - loss: 0.1389 - acc: 0.9568 - val_loss: 0.9639 - val_acc: 0.8020\n",
            "Epoch 16/20\n",
            "7982/7982 [==============================] - 1s 131us/sample - loss: 0.1324 - acc: 0.9567 - val_loss: 0.9963 - val_acc: 0.8060\n",
            "Epoch 17/20\n",
            "7982/7982 [==============================] - 1s 132us/sample - loss: 0.1267 - acc: 0.9558 - val_loss: 0.9758 - val_acc: 0.8140\n",
            "Epoch 18/20\n",
            "7982/7982 [==============================] - 1s 131us/sample - loss: 0.1218 - acc: 0.9570 - val_loss: 1.0053 - val_acc: 0.8090\n",
            "Epoch 19/20\n",
            "7982/7982 [==============================] - 1s 130us/sample - loss: 0.1160 - acc: 0.9563 - val_loss: 1.0120 - val_acc: 0.8120\n",
            "Epoch 20/20\n",
            "7982/7982 [==============================] - 1s 127us/sample - loss: 0.1137 - acc: 0.9565 - val_loss: 1.0440 - val_acc: 0.8100\n"
          ],
          "name": "stdout"
        }
      ]
    },
    {
      "cell_type": "code",
      "metadata": {
        "id": "ekBO0_w3VpXX",
        "colab_type": "code",
        "outputId": "c8f9d72c-21cd-4a7d-8bd0-285116017aa2",
        "colab": {
          "base_uri": "https://localhost:8080/",
          "height": 487
        }
      },
      "source": [
        "import pandas as pd\n",
        "import matplotlib.pyplot as plt\n",
        "from matplotlib.ticker import (AutoMinorLocator, MultipleLocator)\n",
        "\n",
        "pd.DataFrame(history.history).plot(figsize=(10, 8))\n",
        "plt.grid(True)\n",
        "\n",
        "plt.gca().set_ylim(0.0, 2.0) \n",
        "plt.gca().set_xlim(0, 19)\n",
        "\n",
        "plt.gca().xaxis.set_major_locator(MultipleLocator(1))\n",
        "\n",
        "plt.gca().xaxis.set_major_formatter(plt.FuncFormatter(lambda x, _ : int(x + 1)))\n",
        "\n",
        "plt.show()"
      ],
      "execution_count": 0,
      "outputs": [
        {
          "output_type": "display_data",
          "data": {
            "image/png": "[encoded data removed]",
            "text/plain": [
              "<Figure size 720x576 with 1 Axes>"
            ]
          },
          "metadata": {
            "tags": []
          }
        }
      ]
    },
    {
      "cell_type": "code",
      "metadata": {
        "id": "yGyy8-SmEotL",
        "colab_type": "code",
        "outputId": "61c0d4ca-22af-4408-e32f-b7a17fd24736",
        "colab": {
          "base_uri": "https://localhost:8080/",
          "height": 487
        }
      },
      "source": [
        "pd.DataFrame(history.history).plot(figsize=(10, 8))\n",
        "plt.grid(True)\n",
        "\n",
        "plt.gca().set_ylim(0.5, 1.0) \n",
        "plt.gca().set_xlim(0, 19)\n",
        "\n",
        "plt.gca().xaxis.set_major_locator(MultipleLocator(1))\n",
        "\n",
        "def format_func(value, _):\n",
        "    return int(value + 1)\n",
        "\n",
        "plt.gca().xaxis.set_major_formatter(plt.FuncFormatter(lambda x, _ : int(x + 1)))\n",
        "\n",
        "plt.show()"
      ],
      "execution_count": 0,
      "outputs": [
        {
          "output_type": "display_data",
          "data": {
            "image/png": "[encoded data removed]",
            "text/plain": [
              "<Figure size 720x576 with 1 Axes>"
            ]
          },
          "metadata": {
            "tags": []
          }
        }
      ]
    },
    {
      "cell_type": "markdown",
      "metadata": {
        "id": "NBi2dQ1IadlA",
        "colab_type": "text"
      },
      "source": [
        "We see that the smallest validation loss is achieved at epoch 7.  Training for more epochs leads to overfitting"
      ]
    },
    {
      "cell_type": "markdown",
      "metadata": {
        "id": "hdra-IYrdhkE",
        "colab_type": "text"
      },
      "source": [
        "## Retrain model "
      ]
    },
    {
      "cell_type": "markdown",
      "metadata": {
        "id": "9U2CmUIEdsOD",
        "colab_type": "text"
      },
      "source": [
        "Let's train a new network from scratch for 7 epochs and then evaluate it on the test data."
      ]
    },
    {
      "cell_type": "code",
      "metadata": {
        "id": "HB4u0mnQd1aa",
        "colab_type": "code",
        "outputId": "cca00751-3364-4335-c129-09023c09381b",
        "colab": {
          "base_uri": "https://localhost:8080/",
          "height": 295
        }
      },
      "source": [
        "model = build_and_compile_model()\n",
        "\n",
        "model.fit(x_train, y_train, epochs=7, batch_size=512)"
      ],
      "execution_count": 0,
      "outputs": [
        {
          "output_type": "stream",
          "text": [
            "Train on 8982 samples\n",
            "Epoch 1/7\n",
            "8982/8982 [==============================] - 1s 166us/sample - loss: 2.4608 - acc: 0.5135\n",
            "Epoch 2/7\n",
            "8982/8982 [==============================] - 1s 121us/sample - loss: 1.3261 - acc: 0.7178\n",
            "Epoch 3/7\n",
            "8982/8982 [==============================] - 1s 121us/sample - loss: 0.9972 - acc: 0.7900\n",
            "Epoch 4/7\n",
            "8982/8982 [==============================] - 1s 122us/sample - loss: 0.7863 - acc: 0.8334\n",
            "Epoch 5/7\n",
            "8982/8982 [==============================] - 1s 120us/sample - loss: 0.6156 - acc: 0.8729\n",
            "Epoch 6/7\n",
            "8982/8982 [==============================] - 1s 122us/sample - loss: 0.4888 - acc: 0.8975\n",
            "Epoch 7/7\n",
            "8982/8982 [==============================] - 1s 119us/sample - loss: 0.3909 - acc: 0.9173\n"
          ],
          "name": "stdout"
        },
        {
          "output_type": "execute_result",
          "data": {
            "text/plain": [
              "<tensorflow.python.keras.callbacks.History at 0x7f4b9a05f160>"
            ]
          },
          "metadata": {
            "tags": []
          },
          "execution_count": 16
        }
      ]
    },
    {
      "cell_type": "code",
      "metadata": {
        "id": "nxKluHqVeiNd",
        "colab_type": "code",
        "outputId": "7c08151d-3eb0-4435-dbf5-3cd5f8bc81c2",
        "colab": {
          "base_uri": "https://localhost:8080/",
          "height": 52
        }
      },
      "source": [
        "results = model.evaluate(x_test, y_test)\n",
        "results"
      ],
      "execution_count": 0,
      "outputs": [
        {
          "output_type": "stream",
          "text": [
            "2246/2246 [==============================] - 0s 164us/sample - loss: 0.9281 - acc: 0.7934\n"
          ],
          "name": "stdout"
        },
        {
          "output_type": "execute_result",
          "data": {
            "text/plain": [
              "[0.9280934369893129, 0.7934105]"
            ]
          },
          "metadata": {
            "tags": []
          },
          "execution_count": 17
        }
      ]
    },
    {
      "cell_type": "markdown",
      "metadata": {
        "id": "2mfaUS9beob5",
        "colab_type": "text"
      },
      "source": [
        "This simple approach achieves an accuracy of 80%. "
      ]
    },
    {
      "cell_type": "markdown",
      "metadata": {
        "id": "dmQ2siA7ywPx",
        "colab_type": "text"
      },
      "source": [
        "## Code for displaying movie reviews"
      ]
    },
    {
      "cell_type": "code",
      "metadata": {
        "id": "VKj8yY3_z4SN",
        "colab_type": "code",
        "colab": {}
      },
      "source": [
        "# word_index is a dictionary mapping words to an integer index\n",
        "word_index = tf.keras.datasets.reuters.get_word_index()\n",
        "\n",
        "# reverse it, mapping integer indices to words\n",
        "reverse_word_index = dict(\n",
        "    [(value, key) for (key, value) in word_index.items()]\n",
        ")\n",
        "\n",
        "def decode_review(data):\n",
        "    # note that the indices are offset by 3 because\n",
        "    # 0, 1, and 2 are reserved indices for \n",
        "    # \"padding\", \"start of sequence\", and \"unknown\"\n",
        "    return ' '.join(\n",
        "        [reverse_word_index.get(i - 3, '?') for i in data]\n",
        "    )"
      ],
      "execution_count": 0,
      "outputs": []
    },
    {
      "cell_type": "code",
      "metadata": {
        "id": "VHDC3alGuKTU",
        "colab_type": "code",
        "colab": {}
      },
      "source": [
        "import textwrap\n",
        "\n",
        "def print_review(data):\n",
        "    print(textwrap.fill(decode_review(data)))"
      ],
      "execution_count": 0,
      "outputs": []
    },
    {
      "cell_type": "markdown",
      "metadata": {
        "id": "6NfoQpbSgDgj",
        "colab_type": "text"
      },
      "source": [
        "## Analyze predictions"
      ]
    },
    {
      "cell_type": "code",
      "metadata": {
        "id": "4LD6Qr83gCTa",
        "colab_type": "code",
        "colab": {}
      },
      "source": [
        "predictions = model.predict(x_test)"
      ],
      "execution_count": 0,
      "outputs": []
    },
    {
      "cell_type": "markdown",
      "metadata": {
        "id": "xEOBHHPhkVbY",
        "colab_type": "text"
      },
      "source": [
        "**Wrong predictions**"
      ]
    },
    {
      "cell_type": "code",
      "metadata": {
        "id": "QSpEZz7BgSpC",
        "colab_type": "code",
        "outputId": "5fd227c5-5840-4397-f801-0ba7455c76e8",
        "colab": {
          "base_uri": "https://localhost:8080/",
          "height": 1000
        }
      },
      "source": [
        "num = 0\n",
        "for i in range(len(x_test)):\n",
        "    if np.argmax(predictions[i]) != test_labels[i]:\n",
        "        print('correct topic    :', test_labels[i])\n",
        "        print('predicted topic  :', np.argmax(predictions[i]))\n",
        "        print()\n",
        "        print_review(test_data[i])\n",
        "        print('-' * 70)\n",
        "        print()\n",
        "\n",
        "        num += 1\n",
        "        if num == 5:\n",
        "            break"
      ],
      "execution_count": 0,
      "outputs": [
        {
          "output_type": "stream",
          "text": [
            "correct topic    : 4\n",
            "predicted topic  : 13\n",
            "\n",
            "? strong south ? winds were keeping many vessels trapped in the ice\n",
            "off the finnish and swedish coasts in one of the worst icy periods in\n",
            "the baltic for many years the finnish board of navigation said in\n",
            "finland and sweden up to 50 vessels were reported to be stuck in the\n",
            "ice and even the largest of the ? ? were having difficulties in\n",
            "breaking through to the ? ships ? officials said however icy\n",
            "conditions in the southern baltic at the soviet oil ports of ? and ?\n",
            "had eased they said weather officials in neighbouring sweden said the\n",
            "icy conditions in the baltic were the worst for 30 years with ships\n",
            "fighting a losing battle to keep moving in the coastal stretches of\n",
            "the gulf of ? which ? finland and sweden the ice is up to one ? thick\n",
            "with ? and ? packing it into almost ? walls three metres high swedish\n",
            "? officials said weather forecasts say winds may ease during the\n",
            "weekend but a further drop in temperature could bring shipping to a\n",
            "standstill the officials said reuter 3\n",
            "----------------------------------------------------------------------\n",
            "\n",
            "correct topic    : 5\n",
            "predicted topic  : 1\n",
            "\n",
            "? grain traders said they were still awaiting results of yesterday's u\n",
            "k intervention feed wheat tender for the home market the market sought\n",
            "to buy 340 000 tonnes more than double the remaining 150 000 tonnes\n",
            "available under the current tender however some of the tonnage\n",
            "included ? bids for supplies in the same stores since the tenders\n",
            "started last july ? 000 tonnes of british feed wheat have been sold\n",
            "back to the home market reuter 3\n",
            "----------------------------------------------------------------------\n",
            "\n",
            "correct topic    : 1\n",
            "predicted topic  : 13\n",
            "\n",
            "? australia is ? wheat export sales by not providing enough specific\n",
            "quality grades to meet buyer requirements the australian wheat board\n",
            "awb said many awb customers are becoming increasingly quality ?\n",
            "demanding strict adherence to contractual quality ? the board said in\n",
            "a ? to the royal commission into grain storage handling and transport\n",
            "many of the ? are more specific than the current categories used in\n",
            "australia it said the commission is trying to identify ways of saving\n",
            "costs and boosting efficiency of the grain handling system australia\n",
            "must rely on quality to retain its wheat market share because its\n",
            "competitors are supplying cheaper but lower quality grades the awb ?\n",
            "said it stressed the need to ? wheat categories at every stage from ?\n",
            "to shipping better industrial relations at grain terminals more ?\n",
            "transport systems across the states and extensive stock control were\n",
            "vital to improved marketing it said the ? also said australia's\n",
            "federal system ? the ? role of coordinating and managing the marketing\n",
            "of wheat the awb called for an end to physical and legislative\n",
            "constraints at state borders that prevent the efficient transport of\n",
            "grains to other states for shipment it is essential that wheat moves\n",
            "by the most economic ? to the ? efficient port ? of the state in which\n",
            "the wheat is grown or stored it said for example wheat grown in\n",
            "northern new south wales nsw might move more ? to brisbane in\n",
            "queensland than to sydney or ? in new south wales it said similarly\n",
            "southern nsw wheat might better be shipped to portland or ? in\n",
            "victoria legislation giving state rail authorities a monopoly over\n",
            "grain shipments was one notable ? it said the awb said the current\n",
            "approach of state based bulk handling authorities is not essential\n",
            "although it said it favoured the authorities maintaining at least\n",
            "their current level of control of storage and transport as long as\n",
            "quality was maintained an ? on port loading costs showed it cost\n",
            "between 26 500 and 34 700 u s dlrs to load a 50 000 tonne vessel at\n",
            "various australian ports compared with 21 200 dlrs at houston and 16\n",
            "300 at port ? quebec for a 60 000 tonner reuter 3\n",
            "----------------------------------------------------------------------\n",
            "\n",
            "correct topic    : 23\n",
            "predicted topic  : 3\n",
            "\n",
            "? ? ltd said it has closed on a 500 000 dlr long term mortgage loan in\n",
            "connection with its previous purchase of a ? fla plant replacing a\n",
            "short term borrowing the company said full production at the plant\n",
            "will start immediately reuter 3\n",
            "----------------------------------------------------------------------\n",
            "\n",
            "correct topic    : 3\n",
            "predicted topic  : 4\n",
            "\n",
            "? ? electronics corp said it is investigating available means of\n",
            "raising additional funds needed to finance continuing operations but\n",
            "there is no assurance that it will succeed the company said it\n",
            "continues to experience negative cash flow today it reported a loss\n",
            "for the third quarter ended december 31 of 561 029 dlrs compared with\n",
            "a 114 712 dlr loss a year before ? said it has received waivers from\n",
            "marine midland banks inc lt mm through may 26 on covenants in its loan\n",
            "agreement the company said marine midland has agreed to advance it an\n",
            "additional working capital loan that will be personally guaranteed by\n",
            "chairman henry ? loans from marine midland are secured by\n",
            "substantially all company assets ? also said bernard ? has ? as\n",
            "president and a director and until a replacement is found ? will act\n",
            "as chief executive and leonard n ? formerly chief executive will act\n",
            "as chief operating officer reuter 3\n",
            "----------------------------------------------------------------------\n",
            "\n"
          ],
          "name": "stdout"
        }
      ]
    },
    {
      "cell_type": "markdown",
      "metadata": {
        "id": "c5d5JfBfkZto",
        "colab_type": "text"
      },
      "source": [
        "**Correct predictions**"
      ]
    },
    {
      "cell_type": "code",
      "metadata": {
        "id": "FotblhFozqEF",
        "colab_type": "code",
        "outputId": "b7e88b9f-d9eb-4988-f57d-3b040be7244c",
        "colab": {
          "base_uri": "https://localhost:8080/",
          "height": 1000
        }
      },
      "source": [
        "num = 0\n",
        "for i in range(len(x_test)):\n",
        "    if np.argmax(predictions[i]) == test_labels[i]:\n",
        "        print('correct topic    :', test_labels[i])\n",
        "        print('predicted topic  :', np.argmax(predictions[i]))\n",
        "        print()\n",
        "        print_review(test_data[i])\n",
        "        print('-' * 70)\n",
        "        print()\n",
        "\n",
        "        num += 1\n",
        "        if num == 5:\n",
        "            break"
      ],
      "execution_count": 0,
      "outputs": [
        {
          "output_type": "stream",
          "text": [
            "correct topic    : 3\n",
            "predicted topic  : 3\n",
            "\n",
            "? the great atlantic and pacific tea co said its three year 345 mln\n",
            "dlr capital program will be be substantially increased to ? growth and\n",
            "expansion plans for ? inc and ? inc over the next two years a and p\n",
            "said the acquisition of ? in august 1986 and ? in december helped us\n",
            "achieve better than expected results in the fourth quarter ended\n",
            "february 28 its net income from continuing operations jumped 52 6 pct\n",
            "to 20 7 mln dlrs or 55 cts a share in the latest quarter as sales\n",
            "increased 48 3 pct to 1 58 billion dlrs a and p gave no details on the\n",
            "expanded capital program but it did say it completed the first year of\n",
            "the program during 1986 a and p is 52 4 pct owned by lt ? ? of west\n",
            "germany reuter 3\n",
            "----------------------------------------------------------------------\n",
            "\n",
            "correct topic    : 10\n",
            "predicted topic  : 10\n",
            "\n",
            "? philippine sugar production in the 1987 88 crop year ending august\n",
            "has been set at 1 6 mln tonnes up from a provisional 1 3 mln tonnes\n",
            "this year sugar regulatory administration ? chairman ? yulo said yulo\n",
            "told reuters a survey during the current milling season which ends\n",
            "next month showed the 1986 87 estimate would almost certainly be met\n",
            "he said at least 1 2 mln tonnes of the 1987 88 crop would be earmarked\n",
            "for domestic consumption yulo said about 130 000 tonnes would be set\n",
            "aside for the u s sugar quota 150 000 tonnes for strategic reserves\n",
            "and 50 000 tonnes would be sold on the world market he said if the\n",
            "government approved a long standing ? recommendation to manufacture\n",
            "ethanol the project would take up another 150 000 tonnes slightly\n",
            "raising the target the government for its own reasons has been\n",
            "delaying approval of the project but we expect it to come through by\n",
            "july yulo said ethanol could make up five pct of gasoline cutting the\n",
            "oil import bill by about 300 mln pesos yulo said three major\n",
            "philippine ? were ready to start manufacturing ethanol if the project\n",
            "was approved the ethanol project would result in employment for about\n",
            "100 000 people sharply reducing those thrown out of work by depressed\n",
            "world sugar prices and a ? domestic industry production quotas set for\n",
            "the first time in 1987 88 had been submitted to president corazon\n",
            "aquino i think the president would rather wait ? the new congress ?\n",
            "after the may elections he said but there is really no need for such\n",
            "quotas we are right now producing just slightly over our own\n",
            "consumption level the producers have never enjoyed such high prices\n",
            "yulo said adding sugar was currently selling locally for 320 pesos per\n",
            "? up from 190 pesos last august yulo said prices were driven up\n",
            "because of speculation following the ? bid to control production we\n",
            "are no longer concerned so much with the world market he said adding\n",
            "producers in the ? region had learned from their ? and diversified\n",
            "into corn and ? farming and ? production he said diversification into\n",
            "products other than ethanol was also possible within the sugar\n",
            "industry the ? long ago ? their ? yulo said they have 300 sugar mills\n",
            "compared with our 41 but they ? many of them and diversified\n",
            "production we want to call this a ? ? instead of the sugar industry he\n",
            "said sugarcane could be fed to pigs and livestock used for ? ? or used\n",
            "in room ? when you cut sugarcane you don't even have to produce sugar\n",
            "he said yulo said the philippines was lobbying for a renewal of the\n",
            "international sugar agreement which expired in 1984 as a major sugar\n",
            "producer we are urging them to write a new agreement which would\n",
            "revive world prices yulo said if there is no agreement world prices\n",
            "will always be depressed particularly because the european community\n",
            "is ? its producers and dumping sugar on the markets he said current\n",
            "world prices holding steady at about 7 60 cents per pound were ? for\n",
            "the philippines where production costs ranged from 12 to 14 cents a\n",
            "pound if the price holds steady for a while at 7 60 cents i expect the\n",
            "level to rise to about 11 cents a pound by the end of this year he\n",
            "said yulo said economists forecast a bullish sugar market by 1990 with\n",
            "world consumption ? production he said sugar markets were holding up\n",
            "despite ? from artificial sweeteners and high fructose corn syrup but\n",
            "we are not happy with the reagan administration he said since ? we\n",
            "have been regular suppliers of sugar to the u s in 1982 when they\n",
            "restored the quota system they cut ? in half without any justification\n",
            "manila was ? watching washington's moves to cut domestic support\n",
            "prices to 12 cents a pound from 18 cents the u s agriculture\n",
            "department last december slashed its 12 month 1987 sugar import quota\n",
            "from the philippines to 143 780 short tons from 231 660 short tons in\n",
            "1986 yulo said despite next year's increased production target some\n",
            "philippine mills were expected to shut down at least four of the 41\n",
            "mills were not working during the 1986 87 season he said we expect two\n",
            "or three more to follow suit during the next season reuter 3\n",
            "----------------------------------------------------------------------\n",
            "\n",
            "correct topic    : 1\n",
            "predicted topic  : 1\n",
            "\n",
            "? the agriculture department's widening of louisiana gulf\n",
            "differentials will affect county posted prices for number two yellow\n",
            "corn in ten states a usda official said all counties in iowa will be\n",
            "affected as will counties which use the gulf to price corn in illinois\n",
            "indiana tennessee kentucky missouri mississippi arkansas alabama and\n",
            "louisiana said ? ? deputy director of commodity operations division\n",
            "for the usda usda last night notified the grain industry that\n",
            "effective immediately all gulf differentials used to price interior\n",
            "corn would be widened on a sliding scale basis of four to eight cts\n",
            "depending on what the differential is usda's action was taken to lower\n",
            "excessively high posted county prices for corn caused by high gulf\n",
            "prices we've been following this louisiana gulf situation for a month\n",
            "and we don't think it's going to get back in line in any nearby time ?\n",
            "said ? said usda will probably narrow back the gulf differentials when\n",
            "and if gulf prices ? if we're off the mark now because we're too high\n",
            "wouldn't we be as much off the mark if we're too low he said while\n",
            "forecasting more adjustments if gulf prices fall ? said no other\n",
            "changes in usda's price system are being planned right now we don't\n",
            "tinker we don't make changes ? and we don't make changes often he said\n",
            "reuter 3\n",
            "----------------------------------------------------------------------\n",
            "\n",
            "correct topic    : 4\n",
            "predicted topic  : 4\n",
            "\n",
            "? ? ? oil and gas partnership said it completed the sale of interests\n",
            "in two major oil and gas fields to lt energy assets international corp\n",
            "for 21 mln dlrs the company said it sold about one half of its 50 pct\n",
            "interest in the oak hill and north ? fields its two largest producing\n",
            "properties it said it used about 20 mln dlrs of the proceeds to ?\n",
            "principal on its senior secured notes semi annual principal payments\n",
            "on the remaining 40 mln dlrs of notes have been satisfied until\n",
            "december 1988 as a result it said the company said the note agreements\n",
            "were amended to reflect an easing of some financial covenants and an\n",
            "increase of interest to 13 5 pct from 13 0 pct until december 1990 it\n",
            "said the ? exercise price for 1 125 000 warrants was also reduced to\n",
            "50 cts from 1 50 dlrs the company said energy assets agreed to share\n",
            "the costs of increasing production at the oak hill field reuter 3\n",
            "----------------------------------------------------------------------\n",
            "\n",
            "correct topic    : 3\n",
            "predicted topic  : 3\n",
            "\n",
            "? shr 12 cts vs 15 cts net 282 000 vs 360 000 revs 5 261 000 vs 5 348\n",
            "000 avg shrs 2 336 000 vs 2 335 000 year shr 91 cts vs 1 04 dlrs net 2\n",
            "149 000 vs 2 075 000 revs 28 2 mln vs 28 3 mln avg shrs 2 356 000 vs 2\n",
            "001 000 note 1986 quarter net includes 72 000 dlr charge from ? of\n",
            "investment tax credit reuter 3\n",
            "----------------------------------------------------------------------\n",
            "\n"
          ],
          "name": "stdout"
        }
      ]
    },
    {
      "cell_type": "code",
      "metadata": {
        "id": "61nTVOLzj7zO",
        "colab_type": "code",
        "colab": {}
      },
      "source": [
        ""
      ],
      "execution_count": 0,
      "outputs": []
    }
  ]
}