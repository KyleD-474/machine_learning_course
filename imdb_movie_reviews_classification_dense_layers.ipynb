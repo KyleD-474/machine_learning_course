{
  "nbformat": 4,
  "nbformat_minor": 0,
  "metadata": {
    "colab": {
      "name": "imdb_movie_reviews_classification_dense_layers.ipynb",
      "provenance": [],
      "collapsed_sections": [],
      "include_colab_link": true
    },
    "kernelspec": {
      "name": "python3",
      "display_name": "Python 3"
    }
  },
  "cells": [
    {
      "cell_type": "markdown",
      "metadata": {
        "id": "view-in-github",
        "colab_type": "text"
      },
      "source": [
        "<a href=\"https://colab.research.google.com/github/schneider128k/machine_learning_course/blob/master/imdb_movie_reviews_classification_dense_layers.ipynb\" target=\"_parent\"><img src=\"https://colab.research.google.com/assets/colab-badge.svg\" alt=\"Open In Colab\"/></a>"
      ]
    },
    {
      "cell_type": "markdown",
      "metadata": {
        "id": "rt44vyY1xW9b",
        "colab_type": "text"
      },
      "source": [
        "# IMBD movie reviews dataset"
      ]
    },
    {
      "cell_type": "markdown",
      "metadata": {
        "id": "l34GNy7tyNks",
        "colab_type": "text"
      },
      "source": [
        "## Loading the IMBD dataset"
      ]
    },
    {
      "cell_type": "markdown",
      "metadata": {
        "id": "v0bYj6aGnolE",
        "colab_type": "text"
      },
      "source": [
        "The IMDB dataset is a set of 50,000 highly polarized reviews from the Internet Movie Database. The reviews are split into 25,000 reviews for training and 25,000 reviews for testing, each set consisting of 50% negative and 50% positive reviews.\n",
        "\n",
        "Just like the MNIST dataset, the IMBD dataset comes packaged with ```tf.keras```. It has already been preprocessed: the reviews (sequences of words) have been turned into sequences of integers, where each integer stands for a specific word in a dictionary.\n",
        "\n",
        "The argument ```num_words=10000``` means we'll only keep the top 10,000 most frequently occuring words in the training data. Rare words will be discarded.  This allows us to work with vector data of manageable size.\n",
        "\n",
        "The variables ```train_data``` and ```test_data``` are lists of reviews; each review is a list of word indices (encoding a sequence of words).\n",
        "\n",
        "The variables ```train_labels``` and ```test_labels``` are lists of 0s and 1s, where 0 stands for negative and 1 stands for positive.\n"
      ]
    },
    {
      "cell_type": "code",
      "metadata": {
        "id": "FSJyddqGexl5",
        "colab_type": "code",
        "outputId": "ea44387b-531f-4423-ee55-e509854b2095",
        "colab": {
          "base_uri": "https://localhost:8080/",
          "height": 35
        }
      },
      "source": [
        "%tensorflow_version 2.x\n",
        "import tensorflow as tf\n",
        "\n",
        "(train_data, train_labels), (test_data, test_labels) = tf.keras.datasets.imdb.load_data(num_words=10000)"
      ],
      "execution_count": 0,
      "outputs": [
        {
          "output_type": "stream",
          "text": [
            "TensorFlow 2.x selected.\n"
          ],
          "name": "stdout"
        }
      ]
    },
    {
      "cell_type": "markdown",
      "metadata": {
        "id": "TuMi5_HMxuZ3",
        "colab_type": "text"
      },
      "source": [
        "See [https://keras.io/datasets/#imdb-movie-reviews-sentiment-classification](https://keras.io/datasets/#imdb-movie-reviews-sentiment-classification) for all more details."
      ]
    },
    {
      "cell_type": "markdown",
      "metadata": {
        "id": "7vi14hPlEqwG",
        "colab_type": "text"
      },
      "source": [
        "## Preparing the data"
      ]
    },
    {
      "cell_type": "markdown",
      "metadata": {
        "id": "K0INZaNZEwoU",
        "colab_type": "text"
      },
      "source": [
        "As we have seen in the [notebook for loading and exploring the IMDB movie reviews dataset](https://colab.research.google.com/drive/1rYSzV6if2Y4P-X6yrF10IONLynyd416_), the movie reviews are represented as list of integers.  \n",
        "\n",
        "We can't feed list of integers into a neural network. We have to turn our lists into tensors.  We choose a simple method for doing that and discuss more sophisticated methods such as using the ```Embedding``` layer later.\n",
        "\n",
        "We one-hot encode our lists to turn them into vectos of 0s and 1s. For instance,turning the sequence ```[0, 1]``` into a 10,000-dimensional vector would produce a vector that would contain all 0s except for indices 3 and 5, which would contain 1s. We can now feed this vector into a ```Dense``` layer, capable of handing floating-point data.\n",
        "\n"
      ]
    },
    {
      "cell_type": "markdown",
      "metadata": {
        "id": "sjoeZfo2Btwh",
        "colab_type": "text"
      },
      "source": [
        "**Code to vectorize the data**\n",
        "\n",
        "For maximum clarity, let's manually vectorize the data instead of using some build-in functions."
      ]
    },
    {
      "cell_type": "code",
      "metadata": {
        "id": "gQ7Qx7GCB_zm",
        "colab_type": "code",
        "colab": {}
      },
      "source": [
        "import numpy as np\n",
        "\n",
        "def vectorize_sequences(sequences, dimension=10000):\n",
        "    results = np.zeros((len(sequences), dimension))\n",
        "    for i, sequence in enumerate(sequences):\n",
        "        results[i, sequence] = 1.0\n",
        "    return results\n",
        "\n",
        "x_train = vectorize_sequences(train_data)\n",
        "x_test = vectorize_sequences(test_data)\n",
        "\n",
        "y_train = np.asarray(train_labels).astype('float32')\n",
        "y_test = np.asarray(test_labels).astype('float32')"
      ],
      "execution_count": 0,
      "outputs": []
    },
    {
      "cell_type": "code",
      "metadata": {
        "id": "GapqDIMbDlGX",
        "colab_type": "code",
        "outputId": "a6bd08d4-2096-4fa2-84ea-2ee3d19fd6b1",
        "colab": {
          "base_uri": "https://localhost:8080/",
          "height": 35
        }
      },
      "source": [
        "x_train[0]"
      ],
      "execution_count": 0,
      "outputs": [
        {
          "output_type": "execute_result",
          "data": {
            "text/plain": [
              "array([0., 1., 1., ..., 0., 0., 0.])"
            ]
          },
          "metadata": {
            "tags": []
          },
          "execution_count": 3
        }
      ]
    },
    {
      "cell_type": "code",
      "metadata": {
        "id": "VW3GZIkuDpxQ",
        "colab_type": "code",
        "outputId": "1ecc4a30-061f-4ab7-e261-3f60ffa72fef",
        "colab": {
          "base_uri": "https://localhost:8080/",
          "height": 35
        }
      },
      "source": [
        "np.sum(x_train[0])"
      ],
      "execution_count": 0,
      "outputs": [
        {
          "output_type": "execute_result",
          "data": {
            "text/plain": [
              "120.0"
            ]
          },
          "metadata": {
            "tags": []
          },
          "execution_count": 4
        }
      ]
    },
    {
      "cell_type": "code",
      "metadata": {
        "id": "c9hlFrs3Dubw",
        "colab_type": "code",
        "outputId": "46d74253-280c-467a-b050-e0c2d24cb343",
        "colab": {
          "base_uri": "https://localhost:8080/",
          "height": 35
        }
      },
      "source": [
        "bag_of_words = set(train_data[0])\n",
        "len(bag_of_words)"
      ],
      "execution_count": 0,
      "outputs": [
        {
          "output_type": "execute_result",
          "data": {
            "text/plain": [
              "120"
            ]
          },
          "metadata": {
            "tags": []
          },
          "execution_count": 5
        }
      ]
    },
    {
      "cell_type": "markdown",
      "metadata": {
        "id": "sMtxtVSVT3_q",
        "colab_type": "text"
      },
      "source": [
        "## Create validation set"
      ]
    },
    {
      "cell_type": "markdown",
      "metadata": {
        "id": "8oz3jIEWT87X",
        "colab_type": "text"
      },
      "source": [
        "We create a validation set by setting apart 10,000 samples from the original training data to monitor during training the accuracy of the model on data it has never seen before."
      ]
    },
    {
      "cell_type": "code",
      "metadata": {
        "id": "VQhzI6OXT74X",
        "colab_type": "code",
        "colab": {}
      },
      "source": [
        "x_val = x_train[:10000]\n",
        "partial_x_train = x_train[10000:]\n",
        "\n",
        "y_val = y_train[:10000]\n",
        "partial_y_train = y_train[10000:]"
      ],
      "execution_count": 0,
      "outputs": []
    },
    {
      "cell_type": "markdown",
      "metadata": {
        "id": "JHBid67rFGWS",
        "colab_type": "text"
      },
      "source": [
        "## Build model"
      ]
    },
    {
      "cell_type": "code",
      "metadata": {
        "id": "R-l2h80LFJ4c",
        "colab_type": "code",
        "colab": {}
      },
      "source": [
        "def build_and_compile_model():\n",
        "    # build model\n",
        "    model = tf.keras.models.Sequential()\n",
        "\n",
        "    model.add(tf.keras.layers.Dense(16, activation='relu', input_shape=(10000,)))\n",
        "    model.add(tf.keras.layers.Dense(16, activation='relu'))\n",
        "    model.add(tf.keras.layers.Dense(1, activation='sigmoid'))\n",
        "\n",
        "    # compile model\n",
        "    model.compile(optimizer=tf.keras.optimizers.RMSprop(lr=0.001),\n",
        "                loss='binary_crossentropy',\n",
        "                metrics=['accuracy'])\n",
        "    \n",
        "    return model"
      ],
      "execution_count": 0,
      "outputs": []
    },
    {
      "cell_type": "markdown",
      "metadata": {
        "id": "TOphMGVRUl9R",
        "colab_type": "text"
      },
      "source": [
        "## Train model"
      ]
    },
    {
      "cell_type": "code",
      "metadata": {
        "id": "8Fmgxjx_Ut6v",
        "colab_type": "code",
        "outputId": "9e2644e3-d0c5-476c-e8ef-09f9f258b695",
        "colab": {
          "base_uri": "https://localhost:8080/",
          "height": 728
        }
      },
      "source": [
        "model = build_and_compile_model()\n",
        "\n",
        "history = model.fit(partial_x_train,\n",
        "                    partial_y_train,\n",
        "                    epochs=20,\n",
        "                    batch_size=512,\n",
        "                    validation_data=(x_val, y_val))"
      ],
      "execution_count": 0,
      "outputs": [
        {
          "output_type": "stream",
          "text": [
            "Train on 15000 samples, validate on 10000 samples\n",
            "Epoch 1/20\n",
            "15000/15000 [==============================] - 3s 175us/sample - loss: 0.5096 - accuracy: 0.7813 - val_loss: 0.3851 - val_accuracy: 0.8662\n",
            "Epoch 2/20\n",
            "15000/15000 [==============================] - 2s 111us/sample - loss: 0.3006 - accuracy: 0.9047 - val_loss: 0.3130 - val_accuracy: 0.8799\n",
            "Epoch 3/20\n",
            "15000/15000 [==============================] - 2s 111us/sample - loss: 0.2198 - accuracy: 0.9282 - val_loss: 0.2989 - val_accuracy: 0.8807\n",
            "Epoch 4/20\n",
            "15000/15000 [==============================] - 2s 114us/sample - loss: 0.1743 - accuracy: 0.9430 - val_loss: 0.2815 - val_accuracy: 0.8872\n",
            "Epoch 5/20\n",
            "15000/15000 [==============================] - 2s 111us/sample - loss: 0.1408 - accuracy: 0.9547 - val_loss: 0.2825 - val_accuracy: 0.8867\n",
            "Epoch 6/20\n",
            "15000/15000 [==============================] - 2s 109us/sample - loss: 0.1142 - accuracy: 0.9649 - val_loss: 0.3059 - val_accuracy: 0.8816\n",
            "Epoch 7/20\n",
            "15000/15000 [==============================] - 2s 113us/sample - loss: 0.0954 - accuracy: 0.9722 - val_loss: 0.3216 - val_accuracy: 0.8821\n",
            "Epoch 8/20\n",
            "15000/15000 [==============================] - 2s 113us/sample - loss: 0.0781 - accuracy: 0.9777 - val_loss: 0.3354 - val_accuracy: 0.8818\n",
            "Epoch 9/20\n",
            "15000/15000 [==============================] - 2s 112us/sample - loss: 0.0609 - accuracy: 0.9849 - val_loss: 0.3606 - val_accuracy: 0.8802\n",
            "Epoch 10/20\n",
            "15000/15000 [==============================] - 2s 116us/sample - loss: 0.0512 - accuracy: 0.9876 - val_loss: 0.3996 - val_accuracy: 0.8734\n",
            "Epoch 11/20\n",
            "15000/15000 [==============================] - 2s 114us/sample - loss: 0.0416 - accuracy: 0.9907 - val_loss: 0.4165 - val_accuracy: 0.8756\n",
            "Epoch 12/20\n",
            "15000/15000 [==============================] - 2s 114us/sample - loss: 0.0330 - accuracy: 0.9929 - val_loss: 0.4524 - val_accuracy: 0.8747\n",
            "Epoch 13/20\n",
            "15000/15000 [==============================] - 2s 111us/sample - loss: 0.0253 - accuracy: 0.9956 - val_loss: 0.4941 - val_accuracy: 0.8702\n",
            "Epoch 14/20\n",
            "15000/15000 [==============================] - 2s 110us/sample - loss: 0.0204 - accuracy: 0.9964 - val_loss: 0.5430 - val_accuracy: 0.8659\n",
            "Epoch 15/20\n",
            "15000/15000 [==============================] - 2s 112us/sample - loss: 0.0171 - accuracy: 0.9971 - val_loss: 0.5618 - val_accuracy: 0.8675\n",
            "Epoch 16/20\n",
            "15000/15000 [==============================] - 2s 116us/sample - loss: 0.0132 - accuracy: 0.9979 - val_loss: 0.5863 - val_accuracy: 0.8665\n",
            "Epoch 17/20\n",
            "15000/15000 [==============================] - 2s 114us/sample - loss: 0.0111 - accuracy: 0.9977 - val_loss: 0.6195 - val_accuracy: 0.8676\n",
            "Epoch 18/20\n",
            "15000/15000 [==============================] - 2s 114us/sample - loss: 0.0054 - accuracy: 0.9997 - val_loss: 0.6460 - val_accuracy: 0.8672\n",
            "Epoch 19/20\n",
            "15000/15000 [==============================] - 2s 115us/sample - loss: 0.0080 - accuracy: 0.9984 - val_loss: 0.6775 - val_accuracy: 0.8661\n",
            "Epoch 20/20\n",
            "15000/15000 [==============================] - 2s 114us/sample - loss: 0.0034 - accuracy: 0.9999 - val_loss: 0.7888 - val_accuracy: 0.8543\n"
          ],
          "name": "stdout"
        }
      ]
    },
    {
      "cell_type": "code",
      "metadata": {
        "id": "ekBO0_w3VpXX",
        "colab_type": "code",
        "outputId": "5c3fb7b9-201a-466e-d1c4-71fb9e8ade39",
        "colab": {
          "base_uri": "https://localhost:8080/",
          "height": 320
        }
      },
      "source": [
        "import pandas as pd\n",
        "import matplotlib.pyplot as plt\n",
        "from matplotlib.ticker import (AutoMinorLocator, MultipleLocator)\n",
        "\n",
        "\n",
        "pd.DataFrame(history.history).plot(figsize=(10, 5))\n",
        "plt.grid(True)\n",
        "\n",
        "plt.gca().set_ylim(0, 1.1) \n",
        "plt.gca().set_xlim(0, 19)\n",
        "\n",
        "plt.gca().xaxis.set_major_locator(MultipleLocator(2))\n",
        "plt.gca().xaxis.set_minor_locator(AutoMinorLocator(2))\n",
        "plt.gca().grid(which='minor', color='#CCCCCC', linestyle='--')\n",
        "\n",
        "plt.show()"
      ],
      "execution_count": 0,
      "outputs": [
        {
          "output_type": "display_data",
          "data": {
            "image/png": "[encoded data removed]",
            "text/plain": [
              "<Figure size 720x360 with 1 Axes>"
            ]
          },
          "metadata": {
            "tags": []
          }
        }
      ]
    },
    {
      "cell_type": "markdown",
      "metadata": {
        "id": "NBi2dQ1IadlA",
        "colab_type": "text"
      },
      "source": [
        "We see that the smallest validation loss is achieved at epoch 4.  Training for more epochs leads to overfitting"
      ]
    },
    {
      "cell_type": "markdown",
      "metadata": {
        "id": "hdra-IYrdhkE",
        "colab_type": "text"
      },
      "source": [
        "## Retrain model "
      ]
    },
    {
      "cell_type": "markdown",
      "metadata": {
        "id": "9U2CmUIEdsOD",
        "colab_type": "text"
      },
      "source": [
        "Let's train a new network from scratch for 4 epochs and then evaluate it on the test data."
      ]
    },
    {
      "cell_type": "code",
      "metadata": {
        "id": "HB4u0mnQd1aa",
        "colab_type": "code",
        "outputId": "fe62ca01-272e-4e6d-c0ad-612894d0e8e9",
        "colab": {
          "base_uri": "https://localhost:8080/",
          "height": 191
        }
      },
      "source": [
        "model = build_and_compile_model()\n",
        "\n",
        "model.fit(x_train, y_train, epochs=4, batch_size=512)"
      ],
      "execution_count": 0,
      "outputs": [
        {
          "output_type": "stream",
          "text": [
            "Train on 25000 samples\n",
            "Epoch 1/4\n",
            "25000/25000 [==============================] - 3s 101us/sample - loss: 0.4849 - accuracy: 0.8143\n",
            "Epoch 2/4\n",
            "25000/25000 [==============================] - 2s 82us/sample - loss: 0.2772 - accuracy: 0.9057\n",
            "Epoch 3/4\n",
            "25000/25000 [==============================] - 2s 82us/sample - loss: 0.2112 - accuracy: 0.9238\n",
            "Epoch 4/4\n",
            "25000/25000 [==============================] - 2s 80us/sample - loss: 0.1735 - accuracy: 0.9387\n"
          ],
          "name": "stdout"
        },
        {
          "output_type": "execute_result",
          "data": {
            "text/plain": [
              "<tensorflow.python.keras.callbacks.History at 0x7f746b8d3080>"
            ]
          },
          "metadata": {
            "tags": []
          },
          "execution_count": 10
        }
      ]
    },
    {
      "cell_type": "code",
      "metadata": {
        "id": "nxKluHqVeiNd",
        "colab_type": "code",
        "outputId": "17019ef9-081d-4037-e792-2d6df1a378b6",
        "colab": {
          "base_uri": "https://localhost:8080/",
          "height": 52
        }
      },
      "source": [
        "results = model.evaluate(x_test, y_test)\n",
        "results"
      ],
      "execution_count": 0,
      "outputs": [
        {
          "output_type": "stream",
          "text": [
            "25000/25000 [==============================] - 3s 121us/sample - loss: 0.3062 - accuracy: 0.8780\n"
          ],
          "name": "stdout"
        },
        {
          "output_type": "execute_result",
          "data": {
            "text/plain": [
              "[0.30616269837379456, 0.87804]"
            ]
          },
          "metadata": {
            "tags": []
          },
          "execution_count": 11
        }
      ]
    },
    {
      "cell_type": "markdown",
      "metadata": {
        "id": "2mfaUS9beob5",
        "colab_type": "text"
      },
      "source": [
        "This fairly naive approach achieves an accuracy of 88%. With state-of-the-art approaches, we should be able to get close to 95%."
      ]
    },
    {
      "cell_type": "markdown",
      "metadata": {
        "id": "dmQ2siA7ywPx",
        "colab_type": "text"
      },
      "source": [
        "## Code for displaying movie reviews"
      ]
    },
    {
      "cell_type": "code",
      "metadata": {
        "id": "VKj8yY3_z4SN",
        "colab_type": "code",
        "colab": {}
      },
      "source": [
        "# word_index is a dictionary mapping words to an integer index\n",
        "word_index = tf.keras.datasets.imdb.get_word_index()\n",
        "\n",
        "# reverse it, mapping integer indices to words\n",
        "reverse_word_index = dict(\n",
        "    [(value, key) for (key, value) in word_index.items()]\n",
        ")\n",
        "\n",
        "def decode_review(data):\n",
        "    # note that the indices are offset by 3 because\n",
        "    # 0, 1, and 2 are reserved indices for \n",
        "    # \"padding\", \"start of sequence\", and \"unknown\"\n",
        "    return ' '.join(\n",
        "        [reverse_word_index.get(i - 3, '?') for i in data]\n",
        "    )"
      ],
      "execution_count": 0,
      "outputs": []
    },
    {
      "cell_type": "code",
      "metadata": {
        "id": "VHDC3alGuKTU",
        "colab_type": "code",
        "colab": {}
      },
      "source": [
        "import textwrap\n",
        "\n",
        "def print_review(data):\n",
        "    print(textwrap.fill(decode_review(data)))"
      ],
      "execution_count": 0,
      "outputs": []
    },
    {
      "cell_type": "markdown",
      "metadata": {
        "id": "6NfoQpbSgDgj",
        "colab_type": "text"
      },
      "source": [
        "## Analyze predictions"
      ]
    },
    {
      "cell_type": "code",
      "metadata": {
        "id": "4LD6Qr83gCTa",
        "colab_type": "code",
        "colab": {}
      },
      "source": [
        "predictions = model.predict(x_test)"
      ],
      "execution_count": 0,
      "outputs": []
    },
    {
      "cell_type": "markdown",
      "metadata": {
        "id": "xEOBHHPhkVbY",
        "colab_type": "text"
      },
      "source": [
        "**Wrong predictions**"
      ]
    },
    {
      "cell_type": "code",
      "metadata": {
        "id": "QSpEZz7BgSpC",
        "colab_type": "code",
        "outputId": "66c6f0de-5e57-4cd7-f0be-4c7d1e787104",
        "colab": {
          "base_uri": "https://localhost:8080/",
          "height": 1000
        }
      },
      "source": [
        "num = 0\n",
        "for i in range(25000):\n",
        "    if np.round(predictions[i][0]) != y_test[i]:\n",
        "        print('correct sentiment    :', int(y_test[i]))\n",
        "        print('predicted sentiment  :', int(np.round(predictions[i][0])))\n",
        "        print('predicted probability:', np.round(predictions[i][0], 2))\n",
        "        print()\n",
        "        print_review(test_data[i])\n",
        "        print('-' * 70)\n",
        "        print()\n",
        "\n",
        "        num += 1\n",
        "        if num == 10:\n",
        "            break"
      ],
      "execution_count": 0,
      "outputs": [
        {
          "output_type": "stream",
          "text": [
            "correct sentiment    : 0\n",
            "predicted sentiment  : 1\n",
            "predicted probability: 0.89\n",
            "\n",
            "? i generally love this type of movie however this time i found myself\n",
            "wanting to kick the screen since i can't do that i will just complain\n",
            "about it this was absolutely idiotic the things that happen with the\n",
            "dead kids are very cool but the alive people are absolute idiots i am\n",
            "a grown man pretty big and i can defend myself well however i would\n",
            "not do half the stuff the little girl does in this movie also the\n",
            "mother in this movie is reckless with her children to the point of\n",
            "neglect i wish i wasn't so angry about her and her actions because i\n",
            "would have otherwise enjoyed the flick what a number she was take my\n",
            "advise and fast forward through everything you see her do until the\n",
            "end also is anyone else getting sick of watching movies that are\n",
            "filmed so dark anymore one can hardly see what is being filmed as an\n",
            "audience we are ? involved with the actions on the screen so then why\n",
            "the hell can't we have night vision\n",
            "----------------------------------------------------------------------\n",
            "\n",
            "correct sentiment    : 0\n",
            "predicted sentiment  : 1\n",
            "predicted probability: 0.98\n",
            "\n",
            "? hollywood had a long love affair with bogus ? nights tales but few\n",
            "of these products have stood the test of time the most memorable were\n",
            "the jon hall maria ? films which have long since become camp this one\n",
            "is filled with dubbed songs ? ? and slapstick it's a truly crop of\n",
            "corn and pretty near ? today it was nominated for its imaginative\n",
            "special effects which are almost ? in this day and age ? mainly of\n",
            "trick photography the only outstanding positive feature which survives\n",
            "is its beautiful color and clarity sad to say of the many films made\n",
            "in this genre few of them come up to alexander ? original thief of ?\n",
            "almost any other ? nights film is superior to this one though it's a\n",
            "loser\n",
            "----------------------------------------------------------------------\n",
            "\n",
            "correct sentiment    : 0\n",
            "predicted sentiment  : 1\n",
            "predicted probability: 0.9\n",
            "\n",
            "? ed ? mitchell is a teenager who lives for his job at good ? a small\n",
            "but friendly neighborhood ? stand while his buddy ? thompson also\n",
            "works there but lack ? single minded devotion to his job he's there\n",
            "because he accidentally destroyed the car of his teacher mr ? ? and\n",
            "has to raise money to pay the ? when ? ? a ? fast foot chain opens\n",
            "across the street it looks like good ? is history until ed ? a secret\n",
            "? that brings hundreds of new customers to their door however the ?\n",
            "manager of ? ? kurt jan is determined to get his hands on the ? and\n",
            "put good ? out of business meanwhile ed and ? must rescue ? ? ? the\n",
            "world's oldest fast food employee from the demented hills asylum and\n",
            "ed might just find love with ? jackson if he could take his mind off\n",
            "the ? long enough to pay attention to her good ? is a comedy directed\n",
            "for kids decent story acting and overall a pretty harmless kids movie\n",
            "----------------------------------------------------------------------\n",
            "\n",
            "correct sentiment    : 1\n",
            "predicted sentiment  : 0\n",
            "predicted probability: 0.35\n",
            "\n",
            "? how managed to avoid attention remains a mystery a potent mix of\n",
            "comedy and crime this one takes chances where tarantino plays it safe\n",
            "with the hollywood formula the risks don't always pay off one\n",
            "character in one sequence comes off ? silly and falls flat in the lead\n",
            "role thomas jane gives a wonderful and complex performance and two\n",
            "brief appearances by mickey rourke hint at the high potential of this\n",
            "much under and ? used actor here's a director one should keep one's\n",
            "eye on\n",
            "----------------------------------------------------------------------\n",
            "\n",
            "correct sentiment    : 1\n",
            "predicted sentiment  : 0\n",
            "predicted probability: 0.32\n",
            "\n",
            "? if you expect that this movie is full of action and grabbing you\n",
            "from the start then don't watch it but if you like those kind of ?\n",
            "movies which stick in your mind for a while until you get the details\n",
            "then you will love it now don't get me wrong there is action and there\n",
            "are things going on just not in the usual way br br basically the plot\n",
            "is in a post apocalyptic world where anyone fights in his or their way\n",
            "for survival in this fight they lost the ability to speak i don't want\n",
            "to write more to not spoil the movie for you but trust me if you like\n",
            "sf authors like or or even some from orson scott card you will love\n",
            "this movie\n",
            "----------------------------------------------------------------------\n",
            "\n",
            "correct sentiment    : 0\n",
            "predicted sentiment  : 1\n",
            "predicted probability: 0.94\n",
            "\n",
            "? if you have never read the classic science fiction novel this mini\n",
            "series is based on it may actually be good unfortunately if you are a\n",
            "fan of the book you probably won't be able to watch more than the\n",
            "first hour or two all of the political intrigue has been taken out of\n",
            "the film the most important scenes from the book have been taken out\n",
            "characters motivations have been changed completely and words from the\n",
            "wrong characters mouths where in the novel paul was a teen age boy\n",
            "with incredible political skill and a great understanding of the way\n",
            "the world worked in this film he is hot headed and and frustrated\n",
            "avoid this movie at all costs\n",
            "----------------------------------------------------------------------\n",
            "\n",
            "correct sentiment    : 1\n",
            "predicted sentiment  : 0\n",
            "predicted probability: 0.49\n",
            "\n",
            "? this is a special film if you know the context antonioni in his\n",
            "eighties had been crippled by a stroke mute and half ? his friends who\n",
            "incidentally are the best the film world has arranged for him to a\n",
            "last significant film the idea is that he can ? a story into being by\n",
            "just looking at it so we have a film about a director who ? stories by\n",
            "simple observation and the matter of the four stories is about how the\n",
            "visual imagination ? love br br the film emerges by giving us the\n",
            "tools to bring it into being through our own imagination the result is\n",
            "pure movie world every person except the director is lovely in aspect\n",
            "or movement some of these women are and they exist in a dreamy misty\n",
            "world of sensual encounter there is no nuance no hint that anything\n",
            "exists but what we see no desire is at work other than what we create\n",
            "br br i know of no other film that so successfully ? our own visual\n",
            "yearning to have us create the world we see he understands something\n",
            "about not touching no one understands van ? visually like he does ? ?\n",
            "space music is ? on precisely the same notion the sensual touch that\n",
            "implies but doesn't physically touch br br ? ? wife appears\n",
            "appropriately as the ? and she also directs a lackluster ? ? film that\n",
            "is on the dvd br br ted's ? 3 of 4 worth watching\n",
            "----------------------------------------------------------------------\n",
            "\n",
            "correct sentiment    : 0\n",
            "predicted sentiment  : 1\n",
            "predicted probability: 0.75\n",
            "\n",
            "? oh how awfully this movie is i don't know if it is a horror film or\n",
            "a drama cause the story and the both genres are not established very\n",
            "well the story is not moving it is slow boring and sleepy from the\n",
            "beginning to end this movie really ? me but i really liked the camera\n",
            "work it is authentic fresh and clear the acting is great too the\n",
            "little boy was the great performer in this movie but it hasn't made me\n",
            "to jump from my seat but this movie makes me grab a ? lay on the bed\n",
            "and sleep until the credits roll br br boring not worth watching i\n",
            "tell you this movie sucked br br 1 10\n",
            "----------------------------------------------------------------------\n",
            "\n",
            "correct sentiment    : 0\n",
            "predicted sentiment  : 1\n",
            "predicted probability: 0.53\n",
            "\n",
            "? the adventures of ? has to be one of the ? excuses for a movie i've\n",
            "yet run across you would have to look far and wide to find anything\n",
            "that approaches the level of ? on display in this movie acting  bad\n",
            "editing  bad direction  bad special effects  bad and laughable plot\n",
            " bad lighting  bad cinematography  bad costume design  bad and\n",
            "silly everything else  bad watching the adventures of ? is about as\n",
            "enjoyable as a root ? even for a fan of bad movies it's a real ? test\n",
            "this is one for either ? or lou ? ? if any exist br br eight things i\n",
            "learned from watching the adventures of ? br br 1 if you don't have\n",
            "the budget for real special effects ? a scene from the previous movie\n",
            "it will look great trust me br br 2 when on a quest to recover take\n",
            "time for frequent stops to oil up you body it worked for ? and his two\n",
            "amazon companions br br 3 any sword fight use of magic and just about\n",
            "all other day to day activities in ancient ? created a sound very\n",
            "similar to a game of man or ? br br 4 some of the ancient greek gods\n",
            "dressed like extras from star wars br br 5 if you need to pad your\n",
            "crappy movie's runtime ? the title sequence by adding star trek style\n",
            "credits and throw in some overly ? music it also helps if you've got a\n",
            "previous movie to pull scenes from br br 6 fight scenes move along\n",
            "much ? if the bad guys attack ? one at a time br br 7 william ? did\n",
            "anything for money br br 8 i didn't think it was possible but the\n",
            "adventures of ? makes the first film ? 1983 look like an academy award\n",
            "winner\n",
            "----------------------------------------------------------------------\n",
            "\n",
            "correct sentiment    : 0\n",
            "predicted sentiment  : 1\n",
            "predicted probability: 0.92\n",
            "\n",
            "? there seems to be a spectrum of cinema on the left there are movies\n",
            "made mostly for entertainment and or commercial purposes in the middle\n",
            "there are movies that are both entertaining and artistic on the right\n",
            "are movies that are not as commercial but are focused more on cinema\n",
            "as art than cinema as product br br i'm not here to say any one part\n",
            "of the spectrum is better than any other but that when a movie goes\n",
            "too far to either end it's rarely good such is the case with ? br br i\n",
            "had no idea what to expect when i saw it advertised a few friends were\n",
            "going and asked if i wanted to come along none of us knew what to\n",
            "expect and by the end none of us were pleased br br yes there are\n",
            "breathtaking images yes i'm amazed at the ? the filmmakers went to in\n",
            "searching through ? footage yes the soundtrack is enjoyable to listen\n",
            "to and probably the best part of the experience the thing is this goes\n",
            "so far to the right side of the spectrum i mentioned that i can't say\n",
            "anything nice about the movie as a whole br br it's preachy it's a ?\n",
            "of symbolism and obvious morality it's not saying anything new or\n",
            "forcing the viewer to examine life in a new way it's just telling us\n",
            "things we already know that is if we can even figure out what it's\n",
            "saying br br this movie is simply art for ? sake an attempt to say\n",
            "look at how deep and thought provoking we can be by using montage when\n",
            "a film becomes more about how clever or intelligent its creators are\n",
            "than about its subject it ? to be a film and simply becomes celluloid\n",
            "self ?\n",
            "----------------------------------------------------------------------\n",
            "\n"
          ],
          "name": "stdout"
        }
      ]
    },
    {
      "cell_type": "markdown",
      "metadata": {
        "id": "c5d5JfBfkZto",
        "colab_type": "text"
      },
      "source": [
        "**Correct predictions**"
      ]
    },
    {
      "cell_type": "code",
      "metadata": {
        "id": "FotblhFozqEF",
        "colab_type": "code",
        "outputId": "2c95d3e1-52c6-4b07-acce-4a81c8064df2",
        "colab": {
          "base_uri": "https://localhost:8080/",
          "height": 1000
        }
      },
      "source": [
        "num = 0\n",
        "for i in range(25000):\n",
        "    if np.round(predictions[i][0]) == y_test[i]:\n",
        "        print('correct sentiment    :', int(y_test[i]))\n",
        "        print('predicted sentiment  :', int(np.round(predictions[i][0])))\n",
        "        print('predicted probability:', np.round(predictions[i][0], 2))\n",
        "        print()\n",
        "        print_review(test_data[i])\n",
        "        print('-' * 70)\n",
        "        print()\n",
        "\n",
        "        num += 1\n",
        "        if num == 10:\n",
        "            break"
      ],
      "execution_count": 0,
      "outputs": [
        {
          "output_type": "stream",
          "text": [
            "correct sentiment    : 0\n",
            "predicted sentiment  : 0\n",
            "predicted probability: 0.28\n",
            "\n",
            "? please give this one a miss br br ? ? and the rest of the cast\n",
            "rendered terrible performances the show is flat flat flat br br i\n",
            "don't know how michael madison could have allowed this one on his\n",
            "plate he almost seemed to know this wasn't going to work out and his\n",
            "performance was quite ? so all you madison fans give this a miss\n",
            "----------------------------------------------------------------------\n",
            "\n",
            "correct sentiment    : 1\n",
            "predicted sentiment  : 1\n",
            "predicted probability: 1.0\n",
            "\n",
            "? this film requires a lot of patience because it focuses on mood and\n",
            "character development the plot is very simple and many of the scenes\n",
            "take place on the same set in frances ? the sandy dennis character\n",
            "apartment but the film builds to a disturbing climax br br the\n",
            "characters create an atmosphere ? with sexual tension and\n",
            "psychological ? it's very interesting that robert altman directed this\n",
            "considering the style and structure of his other films still the\n",
            "trademark altman audio style is evident here and there i think what\n",
            "really makes this film work is the brilliant performance by sandy\n",
            "dennis it's definitely one of her darker characters but she plays it\n",
            "so perfectly and convincingly that it's scary michael burns does a\n",
            "good job as the mute young man regular altman player michael murphy\n",
            "has a small part the ? moody set fits the content of the story very\n",
            "well in short this movie is a powerful study of loneliness sexual ?\n",
            "and desperation be patient ? up the atmosphere and pay attention to\n",
            "the wonderfully written script br br i praise robert altman this is\n",
            "one of his many films that deals with unconventional fascinating\n",
            "subject matter this film is disturbing but it's sincere and it's sure\n",
            "to ? a strong emotional response from the viewer if you want to see an\n",
            "unusual film some might even say bizarre this is worth the time br br\n",
            "unfortunately it's very difficult to find in video stores you may have\n",
            "to buy it off the internet\n",
            "----------------------------------------------------------------------\n",
            "\n",
            "correct sentiment    : 1\n",
            "predicted sentiment  : 1\n",
            "predicted probability: 0.95\n",
            "\n",
            "? many animation buffs consider ? ? the great forgotten genius of one\n",
            "special branch of the art puppet animation which he invented almost\n",
            "single ? and as it happened almost accidentally as a young man ? was\n",
            "more interested in ? than the cinema but his ? attempt to film two ? ?\n",
            "fighting led to an unexpected breakthrough in film making when he\n",
            "realized he could ? movement by ? beetle ? and ? them one frame at a\n",
            "time this discovery led to the production of amazingly elaborate\n",
            "classic short the ? revenge which he made in russia in ? at a time\n",
            "when motion picture animation of all sorts was in its ? br br the\n",
            "political ? of the russian revolution caused ? to move to paris where\n",
            "one of his first productions ? was a dark political satire ? known as\n",
            "? or the ? who wanted a king a strain of black comedy can be found in\n",
            "almost all of films but here it is very dark indeed aimed more at\n",
            "grown ups who can appreciate the satirical aspects than children who\n",
            "would most likely find the climax ? i'm middle aged and found it\n",
            "pretty ? myself and indeed ? of the film intended for english speaking\n",
            "viewers of the 1920s were given title cards filled with ? and ? in\n",
            "order to help ? the sharp ? of the finale br br our tale is set in a\n",
            "swamp the ? ? where the citizens are unhappy with their government and\n",
            "have called a special session to see what they can do to improve\n",
            "matters they decide to ? ? for a king the crowds are ? animated in\n",
            "this opening sequence it couldn't have been easy to make so many frog\n",
            "puppets look alive simultaneously while ? for his part is depicted as\n",
            "a ? white ? guy in the clouds who looks like he'd rather be taking a ?\n",
            "when ? sends them a tree like god who regards them the ? decide that\n",
            "this is no improvement and demand a different king irritated ? sends\n",
            "them a ? br br delighted with this ? looking new king who towers above\n",
            "them the ? welcome him with a ? of ? dressed ? the mayor steps forward\n",
            "to hand him the key to the ? as ? cameras record the event to\n",
            "everyone's horror the ? promptly eats the mayor and then goes on a\n",
            "merry rampage ? citizens at random a title card ? reads news of the\n",
            "king's ? throughout the kingdom when the now terrified ? once more ? ?\n",
            "for help he loses his temper and ? their community with lightning ?\n",
            "the moral of our story delivered by a hapless frog just before he is\n",
            "eaten is let well enough alone br br considering the time period when\n",
            "this startling little film was made and considering the fact that it\n",
            "was made by a russian ? at the height of that ? country's civil war it\n",
            "would be easy to see this as a ? about those events ? may or may not\n",
            "have had ? turmoil in mind when he made ? but whatever ? his choice of\n",
            "material the film stands as a ? tale of universal ? ? could be the\n",
            "soviet union italy germany or japan in the 1930s or any country of any\n",
            "era that lets its guard down and is overwhelmed by ? it's a\n",
            "fascinating film even a charming one in its macabre way but its\n",
            "message is no joke\n",
            "----------------------------------------------------------------------\n",
            "\n",
            "correct sentiment    : 1\n",
            "predicted sentiment  : 1\n",
            "predicted probability: 0.98\n",
            "\n",
            "? like some other people wrote i'm a die hard mario fan and i loved\n",
            "this game br br this game starts slightly boring but trust me it's\n",
            "worth it as soon as you start your hooked the levels are fun and ?\n",
            "they will hook you ? your mind turns to ? i'm not kidding this game is\n",
            "also ? and is beautifully done br br to keep this spoiler free i have\n",
            "to keep my mouth shut about details but please try this game it'll be\n",
            "worth it br br story 9 9 action 10 1 it's that good ? 10 attention ?\n",
            "10 average 10\n",
            "----------------------------------------------------------------------\n",
            "\n",
            "correct sentiment    : 1\n",
            "predicted sentiment  : 1\n",
            "predicted probability: 0.88\n",
            "\n",
            "? i'm absolutely disgusted this movie isn't being sold all who love\n",
            "this movie should email disney and increase the demand for it they'd\n",
            "eventually have to sell it then i'd buy copies for everybody i know\n",
            "everything and everybody in this movie did a good job and i haven't\n",
            "figured out why disney hasn't put this movie on dvd or on vhs in\n",
            "rental stores at least i haven't seen any copies this is a wicked good\n",
            "movie and should be seen by all the kids in the new generation don't\n",
            "get to see it and i think they should it should at least be put back\n",
            "on the channel this movie doesn't deserve a cheap ? it deserves the\n",
            "real thing i'm them now this movie will be on dvd\n",
            "----------------------------------------------------------------------\n",
            "\n",
            "correct sentiment    : 1\n",
            "predicted sentiment  : 1\n",
            "predicted probability: 1.0\n",
            "\n",
            "? originally supposed to be just a part of a huge epic the year ?\n",
            "depicting the revolution of ? ? is the story of the ? of the crew of\n",
            "the ? in ? harbor the film opens with the crew ? meat and the captain\n",
            "? the execution of the an ? takes place during which the revolutionary\n",
            "leader is killed this ? is taken to the shore to lie in state when the\n",
            "? gather on a huge flight of steps ? the harbor ? troops appear and\n",
            "march down the steps breaking up the crowd a naval ? is sent to ? the\n",
            "? but at the moment when the ships come into range their ? allow the\n",
            "to pass through ? non historically accurate ending is open ended thus\n",
            "? that this was the seed of the later ? revolution that would bloom in\n",
            "russia the film is broken into five parts men and ? drama on the an\n",
            "appeal from the dead the ? steps and meeting the ? br br ? was a\n",
            "revolutionary artist but at the genius level not wanting to make a\n",
            "historical drama ? used visual ? to give the film a ? look so that the\n",
            "viewer feels he is ? on a thrilling and politically revolutionary\n",
            "story this technique is used by the battle of ? br br unlike ? relied\n",
            "on or the casting of non professionals who had striking physical\n",
            "appearances the extraordinary faces of the cast are what one remembers\n",
            "from ? this technique is later used by frank ? in mr deeds goes to\n",
            "town and meet john ? but in ? no one individual is cast as a hero or\n",
            "heroine the story is told through a series of scenes that are combined\n",
            "in a special effect known as montage the editing and selection of\n",
            "short segments to produce a desired effect on the viewer d w griffith\n",
            "also used the montage but no one ? it so well as ? br br the artistic\n",
            "filming of the crew sleeping in their is ? by the ? swinging of tables\n",
            "suspended from chains in the ? in contrast the confrontation between\n",
            "the crew and their officers is charged with electricity and the ? ? of\n",
            "the masses demonstrate their rage with injustice br br ? introduced\n",
            "the technique of showing an action and repeating it again but from a\n",
            "slightly different angle to demonstrate intensity the breaking of a\n",
            "plate bearing the words give us this day our daily bread ? the\n",
            "beginning of the end this technique is used in last year at ? also\n",
            "when the ? surgeon is tossed over the side his ? ? from the ? it was\n",
            "these glasses that the officer used to ? and pass the ? ? meat this\n",
            "sequence ties the punishment to the corruption of the ? era br br the\n",
            "most noted sequence in the film and perhaps in all of film history is\n",
            "the ? steps the broad ? of the steps are filled with hundreds of\n",
            "extras rapid and dramatic violence is always suggested and not\n",
            "explicit yet the visual images of the deaths of a few will last in the\n",
            "minds of the viewer forever br br the ? shots of ? boots and legs ?\n",
            "the steps are cleverly ? with long menacing shadows from a sun at the\n",
            "top of the steps the pace of the sequence is deliberately varied\n",
            "between the ? soldiers and a few civilians who ? up courage to beg\n",
            "them to stop a close up of a woman's face frozen in horror after being\n",
            "struck by a ? sword is the direct ? of the bank ? in bonnie in clyde\n",
            "and gives a lasting impression of the horror of the ? regime br br the\n",
            "death of a young mother leads to a baby ? ? down the steps in a\n",
            "sequence that has been copied by hitchcock in foreign ? by terry\n",
            "gilliam in brazil and brian ? in the ? this sequence is shown\n",
            "repeatedly from various angles thus drawing out what probably was only\n",
            "a five second event br br ? is a film that the revolutionary spirit ?\n",
            "it for those already committed and it for the ? it ? of fire and ?\n",
            "with the senseless ? of the ? ? regime its greatest impact has been on\n",
            "film students who have borrowed and only slightly improved on\n",
            "techniques invented in russia several generations ago\n",
            "----------------------------------------------------------------------\n",
            "\n",
            "correct sentiment    : 0\n",
            "predicted sentiment  : 0\n",
            "predicted probability: 0.01\n",
            "\n",
            "? the ? richard ? dog is ? to ? joan fontaine dog however when ? bing\n",
            "crosby arrives in town to sell a record player to the emperor his dog\n",
            "is attacked by ? dog after a revenge attack where ? is ? from town a ?\n",
            "insists that ? dog must confront dog so that she can overcome her ?\n",
            "fears this is arranged and the dogs fall in love so do ? and ? the\n",
            "rest of the film passes by with romance and at the end ? dog gives\n",
            "birth but who is the father br br the dog story is the very weak\n",
            "vehicle that is used to try and create a story between humans its a\n",
            "terrible storyline there are 3 main musical pieces all of which are\n",
            "rubbish bad songs and dreadful choreography its just an extremely\n",
            "boring film bing has too many words in each sentence and delivers them\n",
            "in an almost irritating manner its not funny ever but its meant to be\n",
            "bing and joan have done much better than this\n",
            "----------------------------------------------------------------------\n",
            "\n",
            "correct sentiment    : 1\n",
            "predicted sentiment  : 1\n",
            "predicted probability: 1.0\n",
            "\n",
            "? this film is where the batman franchise ought to have stopped though\n",
            "i will ? that the ideas behind batman forever were excellent and could\n",
            "have been easily realised by a competent director as it turned out\n",
            "this was not to be the case br br apparently warner brothers\n",
            "executives were disappointed with how dark this second batman film\n",
            "from tim burton turned out apart from the idiocy of expecting anything\n",
            "else from burton and the conservative ? of their subsequent decision\n",
            "to turn the franchise into an homage to the sixties tv series i fail\n",
            "to understand how batman returns can be considered at all\n",
            "disappointing br br true it is not quite the equal of the first film\n",
            "though it ? all the minor ? of style found in batman a weaker script\n",
            "that ? the ? between not just two but three characters invites ?\n",
            "comparisons to the masterful pairing of keaton and jack nicholson as\n",
            "the joker in the first film yet for all this it remains a ? dark film\n",
            "true to the way the batman was always meant to be and highly\n",
            "satisfying br br michael keaton returns as the batman and his alter\n",
            "ego bruce wayne with ? max ? christopher walken named in honour of the\n",
            "1920s german silent actor his partner in crime ? ? the penguin danny ?\n",
            "in brilliant makeup reminiscent of laurence ? richard iii and ? kyle\n",
            "the ? michelle pfeiffer whom wayne romances both as himself and as the\n",
            "batman the four principals turn in excellent performances especially\n",
            "walken and ? while together keaton and pfeiffer explore the darker\n",
            "side of double identities br br there are some intriguing concepts in\n",
            "this film about the only weakness i can really point out is a certain\n",
            "to the script in some places which i think is due mostly to the way\n",
            "this film is a four ? fight there simply isn't enough time to properly\n",
            "explore what's going on br br nevertheless this is a damn good film i\n",
            "highly recommend watching this in ? with the first and then ? for how\n",
            "good the series could have been had it continued under burton and\n",
            "keaton\n",
            "----------------------------------------------------------------------\n",
            "\n",
            "correct sentiment    : 1\n",
            "predicted sentiment  : 1\n",
            "predicted probability: 0.98\n",
            "\n",
            "? inspired by hitchcock's strangers on a train concept of two men ?\n",
            "murders in exchange for getting rid of the two people messing up their\n",
            "lives throw ? from the train is an original and very inventive comedy\n",
            "take on the idea it's a credit to danny ? that he both wrote and\n",
            "starred in this minor comedy gem br br anne ? is the mother who ? the\n",
            "film's title and it's understandable why she gets under the skin of\n",
            "danny ? with her sharp tongue and relentlessly putting him down for\n",
            "any minor ? billy crystal is the writer who's wife has stolen his book\n",
            "idea and is now being ? as a great new author even appearing on the\n",
            "oprah show to in ? he should be enjoying thus ? gets the idea of ?\n",
            "murders to rid themselves of these ? factors br br of course\n",
            "everything and anything can happen when writer carl ? lets his\n",
            "imagination ? with ? ideas for how the plot develops and it's amusing\n",
            "all the way through providing plenty of laughs and chuckles along the\n",
            "way as well as a good deal of suspense br br for ? of black comedy\n",
            "this one is guaranteed to please\n",
            "----------------------------------------------------------------------\n",
            "\n",
            "correct sentiment    : 0\n",
            "predicted sentiment  : 0\n",
            "predicted probability: 0.02\n",
            "\n",
            "? when i first saw this movie in the theater i was so angry it\n",
            "completely blew in my opinion i didn't see it for a decade then\n",
            "decided what the hell let's see i'm watching all ? movies now to see\n",
            "where it went wrong my guess is it was with sequel 5 that was the\n",
            "first to ? the whole i am in a dream ? i see weird stuff oh ? what is\n",
            "happening oh its a dream oh its not a dream oh wait i see something\n",
            "spooky oh never mind ? storyline those sequels don't even require the\n",
            "box to be opened or stick to the rules from the first 4 movies that if\n",
            "you saw ? you are pretty much screwed and dead the first 3 ? to this\n",
            "storyline which made it so scary in the first place nothing fantasy\n",
            "nothing weird the box got opened boom they came was the only one that\n",
            "could bargain her way out of it first because of uncle frank then\n",
            "because she had information about the this movie at least attempts to\n",
            "stick to all that even though it was a bad story it was still somewhat\n",
            "? no i'm pretty sure part 5 was the first part to completely and\n",
            "utterly destroy the ? series now they are ? 1 and i don't even think i\n",
            "will watch it oh who am i kidding i probably will and probably will be\n",
            "disappointed again\n",
            "----------------------------------------------------------------------\n",
            "\n"
          ],
          "name": "stdout"
        }
      ]
    },
    {
      "cell_type": "code",
      "metadata": {
        "id": "61nTVOLzj7zO",
        "colab_type": "code",
        "colab": {}
      },
      "source": [
        ""
      ],
      "execution_count": 0,
      "outputs": []
    }
  ]
}