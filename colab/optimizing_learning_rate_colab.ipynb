{
  "nbformat": 4,
  "nbformat_minor": 0,
  "metadata": {
    "colab": {
      "name": "optimizing_learning_rate_colab.ipynb",
      "version": "0.3.2",
      "provenance": [],
      "include_colab_link": true
    },
    "kernelspec": {
      "name": "python3",
      "display_name": "Python 3"
    }
  },
  "cells": [
    {
      "cell_type": "markdown",
      "metadata": {
        "id": "view-in-github",
        "colab_type": "text"
      },
      "source": [
        "<a href=\"https://colab.research.google.com/github/schneider128k/machine_learning_course/blob/master/colab/optimizing_learning_rate_colab.ipynb\" target=\"_parent\"><img src=\"https://colab.research.google.com/assets/colab-badge.svg\" alt=\"Open In Colab\"/></a>"
      ]
    },
    {
      "cell_type": "code",
      "metadata": {
        "id": "lyfgNSJ4LnDe",
        "colab_type": "code",
        "colab": {}
      },
      "source": [
        "import numpy as np\n",
        "import matplotlib.pyplot as plt\n",
        "%matplotlib inline"
      ],
      "execution_count": 0,
      "outputs": []
    },
    {
      "cell_type": "code",
      "metadata": {
        "id": "sGl2udpsLs5c",
        "colab_type": "code",
        "colab": {}
      },
      "source": [
        "left = 0.0\n",
        "right = 4.0\n",
        "samples = np.array([0.0])"
      ],
      "execution_count": 0,
      "outputs": []
    },
    {
      "cell_type": "code",
      "metadata": {
        "id": "qWAA4sJtLu-D",
        "colab_type": "code",
        "colab": {}
      },
      "source": [
        "def loss(x):\n",
        "    return 2.0 * (x - 2.0)**2\n",
        "\n",
        "def loss_gradient(x):\n",
        "    return 4.0 * (x - 2.0)"
      ],
      "execution_count": 0,
      "outputs": []
    },
    {
      "cell_type": "code",
      "metadata": {
        "id": "mLCLOAjILzhK",
        "colab_type": "code",
        "colab": {}
      },
      "source": [
        "def plot(learning_rate):\n",
        "    global samples\n",
        "    global left\n",
        "    global right\n",
        "    x = np.linspace(left, right)\n",
        "    fig, ax = plt.subplots(1, 1, figsize=(8, 6))\n",
        "    ax.grid(True)\n",
        "    ax.plot(x, loss(x))\n",
        "    colors = np.full(samples.shape, 0.5)\n",
        "    ax.scatter(samples, loss(samples))\n",
        "    last_sample = samples[-1]\n",
        "    new_sample = last_sample - float(learning_rate) * loss_gradient(last_sample)\n",
        "    samples = np.append(samples, new_sample)\n",
        "    left = min(left, new_sample)\n",
        "    right = max(right, new_sample)"
      ],
      "execution_count": 0,
      "outputs": []
    },
    {
      "cell_type": "code",
      "metadata": {
        "id": "Z2vPqgPnL2rR",
        "colab_type": "code",
        "outputId": "13b46c90-8ca9-4424-a2df-0d78adb4e4a1",
        "colab": {
          "base_uri": "https://localhost:8080/",
          "height": 379
        }
      },
      "source": [
        "plot(0.5)"
      ],
      "execution_count": 7,
      "outputs": [
        {
          "output_type": "display_data",
          "data": {
            "image/png": "[encoded data removed]",
            "text/plain": [
              "<Figure size 576x432 with 1 Axes>"
            ]
          },
          "metadata": {
            "tags": []
          }
        }
      ]
    },
    {
      "cell_type": "code",
      "metadata": {
        "id": "Rm3VN3WvMU1A",
        "colab_type": "code",
        "colab": {}
      },
      "source": [
        ""
      ],
      "execution_count": 0,
      "outputs": []
    }
  ]
}